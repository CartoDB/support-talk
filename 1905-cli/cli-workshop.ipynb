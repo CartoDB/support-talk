{
 "cells": [
  {
   "cell_type": "markdown",
   "metadata": {
    "slideshow": {
     "slide_type": "-"
    }
   },
   "source": [
    "# CLI workshop\n",
    "\n",
    "CARTO Solutions Technical Workshops\n",
    "\n",
    "Jorge Sanz · May 2019\n",
    "\n",
    "http://bit.ly/1905-cli-workshop\n",
    "\n",
    "---\n",
    "\n",
    "> This workshop is intended to show why using a command line interface can be useful on many of our everyday tasks, and more convenient and effective than other graphical interfaces.\n",
    "\n",
    "---\n",
    "\n",
    "## Contents\n",
    "\n",
    "* Intro\n",
    "* Some basic commands\n",
    "* Viewing and finding things\n",
    "* Accessing APIs and web services\n",
    "* Handling local data\n",
    "* Miscellany"
   ]
  },
  {
   "cell_type": "markdown",
   "metadata": {
    "slideshow": {
     "slide_type": "-"
    }
   },
   "source": [
    "## CLI versus GUI\n",
    "\n",
    "| _ | CLI | GUI |\n",
    "|---| --- | --- |\n",
    "| Eease | ❌  | ✅ |\n",
    "| Functionality | ✅ | ❌  | \n",
    "| Speed |  ✅ |  ❌ |\n",
    "| Multitasking | ❌  | ✅ |\n",
    "| Automation | ✅ | ❌  | \n"
   ]
  },
  {
   "cell_type": "markdown",
   "metadata": {
    "slideshow": {
     "slide_type": "-"
    }
   },
   "source": [
    "## When to use the command line\n",
    "\n",
    "* Repeated tasks\n",
    "* Greater control over functionality\n",
    "* Dealing with lots of information\n",
    "* Focus in the process\n",
    "* Accessing remote servers"
   ]
  },
  {
   "cell_type": "markdown",
   "metadata": {
    "slideshow": {
     "slide_type": "-"
    }
   },
   "source": [
    "## Piping and redirections"
   ]
  },
  {
   "cell_type": "code",
   "execution_count": 1,
   "metadata": {
    "ExecuteTime": {
     "end_time": "2019-05-09T13:37:40.421210Z",
     "start_time": "2019-05-09T13:37:40.261139Z"
    },
    "slideshow": {
     "slide_type": "-"
    }
   },
   "outputs": [
    {
     "name": "stdout",
     "output_type": "stream",
     "text": [
      "127.0.0.1\t\u001b[01;31m\u001b[Klocalhost\u001b[m\u001b[K\n",
      "::1     ip6-\u001b[01;31m\u001b[Klocalhost\u001b[m\u001b[K ip6-loopback\n",
      "127.0.1.1 cartodb.\u001b[01;31m\u001b[Klocalhost\u001b[m\u001b[K\n"
     ]
    }
   ],
   "source": [
    "# pipe the result of a command into another\n",
    "cat /etc/hosts | grep localhost"
   ]
  },
  {
   "cell_type": "code",
   "execution_count": 2,
   "metadata": {
    "ExecuteTime": {
     "end_time": "2019-05-09T13:37:40.682963Z",
     "start_time": "2019-05-09T13:37:40.528208Z"
    },
    "slideshow": {
     "slide_type": "-"
    }
   },
   "outputs": [],
   "source": [
    "# write the contents of a command results into a file (overwriting)\n",
    "cat /etc/hosts > /tmp/myhosts"
   ]
  },
  {
   "cell_type": "markdown",
   "metadata": {
    "slideshow": {
     "slide_type": "-"
    }
   },
   "source": [
    "## Basic commands\n",
    "\n",
    "* Remember you can use the arrow keys to browse your history.\n",
    "* The `HISTSIZE` environment variable defines the size of your history.\n",
    "* `Ctrl + r` allows you to search on your history\n",
    "* `!!` executes the previous command\n",
    "* `CTL + L` clean the screen (same as executing `clear` command)\n",
    "* `CTL + A`, `CTL + E`: go to the begin/end of the line"
   ]
  },
  {
   "cell_type": "code",
   "execution_count": 3,
   "metadata": {
    "ExecuteTime": {
     "end_time": "2019-05-09T13:37:41.036453Z",
     "start_time": "2019-05-09T13:37:40.878716Z"
    }
   },
   "outputs": [
    {
     "name": "stdout",
     "output_type": "stream",
     "text": [
      "Linux aldaia 4.15.0-48-generic #51-Ubuntu SMP Wed Apr 3 08:28:49 UTC 2019 x86_64 x86_64 x86_64 GNU/Linux\n"
     ]
    }
   ],
   "source": [
    "# Show system info\n",
    "uname -a"
   ]
  },
  {
   "cell_type": "code",
   "execution_count": 4,
   "metadata": {
    "ExecuteTime": {
     "end_time": "2019-05-09T13:37:41.212279Z",
     "start_time": "2019-05-09T13:37:41.056190Z"
    },
    "slideshow": {
     "slide_type": "-"
    }
   },
   "outputs": [
    {
     "name": "stdout",
     "output_type": "stream",
     "text": [
      "jsanz\n"
     ]
    }
   ],
   "source": [
    "# Show the current user\n",
    "whoami"
   ]
  },
  {
   "cell_type": "code",
   "execution_count": 5,
   "metadata": {
    "ExecuteTime": {
     "end_time": "2019-05-09T13:37:41.368793Z",
     "start_time": "2019-05-09T13:37:41.214764Z"
    },
    "slideshow": {
     "slide_type": "-"
    }
   },
   "outputs": [
    {
     "name": "stdout",
     "output_type": "stream",
     "text": [
      "/home/jsanz/src/carto/talks/1905-cli\n"
     ]
    }
   ],
   "source": [
    "# Show the current directory\n",
    "pwd"
   ]
  },
  {
   "cell_type": "code",
   "execution_count": 6,
   "metadata": {
    "ExecuteTime": {
     "end_time": "2019-05-09T13:37:41.528539Z",
     "start_time": "2019-05-09T13:37:41.371953Z"
    },
    "slideshow": {
     "slide_type": "-"
    }
   },
   "outputs": [
    {
     "name": "stdout",
     "output_type": "stream",
     "text": [
      "2019-05-09 15:37:41\n"
     ]
    }
   ],
   "source": [
    "# Show the current date\n",
    "date +%F\\ %T "
   ]
  },
  {
   "cell_type": "code",
   "execution_count": 7,
   "metadata": {
    "ExecuteTime": {
     "end_time": "2019-05-09T13:37:41.685681Z",
     "start_time": "2019-05-09T13:37:41.531195Z"
    },
    "slideshow": {
     "slide_type": "-"
    }
   },
   "outputs": [
    {
     "name": "stdout",
     "output_type": "stream",
     "text": [
      "1000\n"
     ]
    }
   ],
   "source": [
    "# Print a variable\n",
    "echo $HISTSIZE"
   ]
  },
  {
   "cell_type": "code",
   "execution_count": 8,
   "metadata": {
    "ExecuteTime": {
     "end_time": "2019-05-09T13:37:41.950290Z",
     "start_time": "2019-05-09T13:37:41.688178Z"
    }
   },
   "outputs": [
    {
     "name": "stdout",
     "output_type": "stream",
     "text": [
      "Filesystem                   Size  Used Avail Use% Mounted on\n",
      "udev                         7,8G     0  7,8G   0% /dev\n",
      "tmpfs                        1,6G  1,8M  1,6G   1% /run\n",
      "/dev/mapper/ubuntu--vg-root  424G  297G  106G  74% /\n",
      "tmpfs                        7,8G  263M  7,6G   4% /dev/shm\n",
      "tmpfs                        5,0M  4,0K  5,0M   1% /run/lock\n",
      "tmpfs                        7,8G     0  7,8G   0% /sys/fs/cgroup\n",
      "/dev/sda1                    472M  184M  265M  41% /boot\n",
      "tmpfs                        1,6G   56K  1,6G   1% /run/user/1000\n",
      "/dev/fuse                    250G  1,0K  250G   1% /run/user/1000/keybase/kbfs\n"
     ]
    }
   ],
   "source": [
    "# Print disk status\n",
    "df -h | grep -v loop"
   ]
  },
  {
   "cell_type": "code",
   "execution_count": 9,
   "metadata": {
    "ExecuteTime": {
     "end_time": "2019-05-09T13:37:42.882899Z",
     "start_time": "2019-05-09T13:37:41.954617Z"
    }
   },
   "outputs": [
    {
     "name": "stdout",
     "output_type": "stream",
     "text": [
      "780K\t/home/jsanz/media/carto/koppen-climatic\n",
      "343M\t/home/jsanz/media/carto/CNIG\n",
      "859M\t/home/jsanz/media/carto/zcta\n",
      "40K\t/home/jsanz/media/carto/fme\n",
      "665M\t/home/jsanz/media/carto/landast\n",
      "49M\t/home/jsanz/media/carto/noaa\n",
      "478M\t/home/jsanz/media/carto/antartica\n",
      "115M\t/home/jsanz/media/carto/FARS\n",
      "244M\t/home/jsanz/media/carto/cartociudad\n",
      "13M\t/home/jsanz/media/carto/magrama\n",
      "42M\t/home/jsanz/media/carto/KP\n",
      "59M\t/home/jsanz/media/carto/builder-demos\n",
      "143M\t/home/jsanz/media/carto/natural_earth\n",
      "16G\t/home/jsanz/media/carto/ncdc\n",
      "3,4M\t/home/jsanz/media/carto/ukr\n",
      "92M\t/home/jsanz/media/carto/btn25\n",
      "131M\t/home/jsanz/media/carto/INE\n",
      "20K\t/home/jsanz/media/carto/.mapbox-studio\n",
      "289M\t/home/jsanz/media/carto/carto_establishments\n",
      "5,9M\t/home/jsanz/media/carto/geopois\n",
      "1,5G\t/home/jsanz/media/carto/geonames\n",
      "2,7G\t/home/jsanz/media/carto/nba\n",
      "1014M\t/home/jsanz/media/carto/waze\n",
      "2,7G\t/home/jsanz/media/carto/ordenance_survey\n",
      "568K\t/home/jsanz/media/carto/TV3\n",
      "608M\t/home/jsanz/media/carto/NYC\n",
      "88M\t/home/jsanz/media/carto/UNIGIS\n",
      "124M\t/home/jsanz/media/carto/multicriterio\n",
      "42M\t/home/jsanz/media/carto/nuts2013\n",
      "4,0K\t/home/jsanz/media/carto/CartoDB\n",
      "843M\t/home/jsanz/media/carto/catastro-osm\n",
      "321M\t/home/jsanz/media/carto/yodlee\n",
      "48K\t/home/jsanz/media/carto/paseo.shp\n",
      "du: cannot read directory '/home/jsanz/media/carto/postgres_data/9.5/main': Permission denied\n",
      "12K\t/home/jsanz/media/carto/postgres_data\n",
      "6,7G\t/home/jsanz/media/carto/osm\n",
      "1,5G\t/home/jsanz/media/carto/gadm\n",
      "37G\t/home/jsanz/media/carto\n"
     ]
    },
    {
     "ename": "",
     "evalue": "1",
     "output_type": "error",
     "traceback": []
    }
   ],
   "source": [
    "# Print usage\n",
    "du ~/media/carto --max-depth=1 --human-readable"
   ]
  },
  {
   "cell_type": "code",
   "execution_count": null,
   "metadata": {
    "ExecuteTime": {
     "end_time": "2019-05-09T13:37:42.888297Z",
     "start_time": "2019-05-09T13:37:42.009Z"
    }
   },
   "outputs": [],
   "source": [
    "# Find processes\n",
    "ps aux | grep unclutter"
   ]
  },
  {
   "cell_type": "code",
   "execution_count": null,
   "metadata": {
    "ExecuteTime": {
     "end_time": "2019-05-09T13:37:42.890627Z",
     "start_time": "2019-05-09T13:37:42.174Z"
    }
   },
   "outputs": [],
   "source": [
    "# Send a kill signal to the unclutter processs\n",
    "kill -9 2010\n",
    "ps aux | grep unclutter"
   ]
  },
  {
   "cell_type": "markdown",
   "metadata": {
    "slideshow": {
     "slide_type": "-"
    }
   },
   "source": [
    "## Scripting\n",
    "\n",
    "You can write pretty complex scripts using bash that include functions, control structures, and so on."
   ]
  },
  {
   "cell_type": "code",
   "execution_count": 10,
   "metadata": {
    "ExecuteTime": {
     "end_time": "2019-05-09T13:37:43.302603Z",
     "start_time": "2019-05-09T13:37:42.994292Z"
    },
    "slideshow": {
     "slide_type": "-"
    }
   },
   "outputs": [
    {
     "name": "stdout",
     "output_type": "stream",
     "text": [
      "Welcome 1\n",
      "Welcome 2\n",
      "Welcome 3\n",
      "Welcome 4\n",
      "Welcome 5\n"
     ]
    }
   ],
   "source": [
    "# You can do for loops\n",
    "for i in {1..5}\n",
    "do\n",
    "   echo \"Welcome $i\"\n",
    "done"
   ]
  },
  {
   "cell_type": "code",
   "execution_count": 11,
   "metadata": {
    "ExecuteTime": {
     "end_time": "2019-05-09T13:37:43.883361Z",
     "start_time": "2019-05-09T13:37:43.475386Z"
    },
    "slideshow": {
     "slide_type": "-"
    }
   },
   "outputs": [
    {
     "name": "stdout",
     "output_type": "stream",
     "text": [
      "Big History!\n"
     ]
    }
   ],
   "source": [
    "# If structures... and much more\n",
    "if [ $HISTSIZE -gt 500 ]\n",
    "then\n",
    "    echo \"Big History!\"\n",
    "else\n",
    "    echo \"Short History\"\n",
    "fi"
   ]
  },
  {
   "cell_type": "markdown",
   "metadata": {
    "slideshow": {
     "slide_type": "-"
    }
   },
   "source": [
    "## Viewing and finding"
   ]
  },
  {
   "cell_type": "markdown",
   "metadata": {
    "slideshow": {
     "slide_type": "-"
    }
   },
   "source": [
    "### wc and cat"
   ]
  },
  {
   "cell_type": "code",
   "execution_count": 12,
   "metadata": {
    "ExecuteTime": {
     "end_time": "2019-05-09T13:37:44.245991Z",
     "start_time": "2019-05-09T13:37:44.089130Z"
    },
    "slideshow": {
     "slide_type": "-"
    }
   },
   "outputs": [
    {
     "name": "stdout",
     "output_type": "stream",
     "text": [
      " 28  54 631 /etc/hosts\n"
     ]
    }
   ],
   "source": [
    "# Counting lines, words, and characters\n",
    "wc /etc/hosts"
   ]
  },
  {
   "cell_type": "code",
   "execution_count": 13,
   "metadata": {
    "ExecuteTime": {
     "end_time": "2019-05-09T13:37:44.433815Z",
     "start_time": "2019-05-09T13:37:44.277504Z"
    },
    "slideshow": {
     "slide_type": "-"
    }
   },
   "outputs": [
    {
     "name": "stdout",
     "output_type": "stream",
     "text": [
      "28 /etc/hosts\n"
     ]
    }
   ],
   "source": [
    "# Usually we only want the lines\n",
    "wc -l /etc/hosts"
   ]
  },
  {
   "cell_type": "code",
   "execution_count": 14,
   "metadata": {
    "ExecuteTime": {
     "end_time": "2019-05-09T13:37:44.632264Z",
     "start_time": "2019-05-09T13:37:44.473302Z"
    },
    "slideshow": {
     "slide_type": "-"
    }
   },
   "outputs": [
    {
     "name": "stdout",
     "output_type": "stream",
     "text": [
      "127.0.0.1\tlocalhost\n",
      "127.0.1.1\taldaia\n",
      "\n",
      "# The following lines are desirable for IPv6 capable hosts\n",
      "::1     ip6-localhost ip6-loopback\n"
     ]
    }
   ],
   "source": [
    "# Print the beginning of a file\n",
    "head -n5 /etc/hosts "
   ]
  },
  {
   "cell_type": "code",
   "execution_count": 15,
   "metadata": {
    "ExecuteTime": {
     "end_time": "2019-05-09T13:37:44.805320Z",
     "start_time": "2019-05-09T13:37:44.646883Z"
    },
    "slideshow": {
     "slide_type": "-"
    }
   },
   "outputs": [
    {
     "name": "stdout",
     "output_type": "stream",
     "text": [
      "## vagrant-hostmanager\n",
      "#10.0.2.70 grafana.cartodb.net\n",
      "#10.0.2.82 kibana.cartodb.net\n",
      "\n",
      "127.0.1.1 cartodb.localhost\n"
     ]
    }
   ],
   "source": [
    "# Same with the end\n",
    "tail -n5 /etc/hosts"
   ]
  },
  {
   "cell_type": "code",
   "execution_count": 16,
   "metadata": {
    "ExecuteTime": {
     "end_time": "2019-05-09T13:37:45.017436Z",
     "start_time": "2019-05-09T13:37:44.809258Z"
    },
    "slideshow": {
     "slide_type": "-"
    }
   },
   "outputs": [
    {
     "name": "stdout",
     "output_type": "stream",
     "text": [
      "58\n"
     ]
    }
   ],
   "source": [
    "# Combining pipes with wc to count how many files are in a folder\n",
    "ls /var/log/*.log* \\\n",
    "| wc -l"
   ]
  },
  {
   "cell_type": "markdown",
   "metadata": {
    "slideshow": {
     "slide_type": "-"
    }
   },
   "source": [
    "### find"
   ]
  },
  {
   "cell_type": "code",
   "execution_count": 17,
   "metadata": {
    "ExecuteTime": {
     "end_time": "2019-05-09T13:37:45.368204Z",
     "start_time": "2019-05-09T13:37:45.105767Z"
    },
    "slideshow": {
     "slide_type": "-"
    }
   },
   "outputs": [
    {
     "name": "stdout",
     "output_type": "stream",
     "text": [
      "203\n"
     ]
    }
   ],
   "source": [
    "# Finding all files inside a folder based in their names and types\n",
    "# we redirect errors to the black hole at /dev/null\n",
    "find /var/log -type f -name \"*log*\" 2> /dev/null \\\n",
    "| wc -l"
   ]
  },
  {
   "cell_type": "code",
   "execution_count": 18,
   "metadata": {
    "ExecuteTime": {
     "end_time": "2019-05-09T13:37:45.532602Z",
     "start_time": "2019-05-09T13:37:45.371104Z"
    },
    "slideshow": {
     "slide_type": "-"
    }
   },
   "outputs": [
    {
     "ename": "",
     "evalue": "1",
     "output_type": "error",
     "traceback": []
    }
   ],
   "source": [
    "# Finding and deleting\n",
    "find /tmp/ -name \".DS_Store\" -type f -delete 2> /dev/null"
   ]
  },
  {
   "cell_type": "code",
   "execution_count": null,
   "metadata": {
    "ExecuteTime": {
     "end_time": "2019-05-09T13:37:45.534832Z",
     "start_time": "2019-05-09T13:37:45.512Z"
    },
    "slideshow": {
     "slide_type": "-"
    }
   },
   "outputs": [],
   "source": [
    "# Finding and executing a command (count lines in gitignore files)\n",
    "find ~/src/carto -name \".gitignore\" -type f -exec wc -l {} \\;"
   ]
  },
  {
   "cell_type": "markdown",
   "metadata": {
    "slideshow": {
     "slide_type": "-"
    }
   },
   "source": [
    "### sed\n",
    "\n",
    "Great for working with text files:\n",
    "* replacing texts\n",
    "* finding patterns\n",
    "* working with line numbers"
   ]
  },
  {
   "cell_type": "code",
   "execution_count": 19,
   "metadata": {
    "ExecuteTime": {
     "end_time": "2019-05-09T13:37:46.087183Z",
     "start_time": "2019-05-09T13:37:45.923774Z"
    },
    "slideshow": {
     "slide_type": "-"
    }
   },
   "outputs": [
    {
     "name": "stdout",
     "output_type": "stream",
     "text": [
      "# The following lines are desirable for IPv6 capable hosts\n",
      "#192.168.56.101 cartodb.lan\n",
      "# 5.32.4.75 cartodb.lan\n",
      "## vagrant-hostmanager-start id: aea15025-4dcf-452d-a47e-7e270a187de8\n",
      "## vagrant-hostmanager-end\n",
      "## vagrant-hostmanager-start id: 0a853cbe-6d72-4784-aea1-137a727a3f0a\n",
      "## vagrant-hostmanager\n",
      "#10.0.2.70 grafana.cartodb.net\n",
      "#10.0.2.82 kibana.cartodb.net\n"
     ]
    }
   ],
   "source": [
    "# Print comments in the hosts file\n",
    "sed -n -e '/\\#.*/p' /etc/hosts"
   ]
  },
  {
   "cell_type": "code",
   "execution_count": 20,
   "metadata": {
    "ExecuteTime": {
     "end_time": "2019-05-09T13:37:46.253637Z",
     "start_time": "2019-05-09T13:37:46.093052Z"
    },
    "slideshow": {
     "slide_type": "-"
    }
   },
   "outputs": [
    {
     "name": "stdout",
     "output_type": "stream",
     "text": [
      "127.0.0.1\tlocalhost\n",
      "127.0.1.1\taldaia\n",
      "::1     ip6-localhost ip6-loopback\n",
      "fe00::0 ip6-localnet\n",
      "ff00::0 ip6-mcastprefix\n",
      "ff02::1 ip6-allnodes\n",
      "ff02::2 ip6-allrouters\n",
      "192.168.33.10 carto.lan\n",
      "10.0.3.79\tbcg.devnet.local\n",
      "10.0.3.140\tcarto.lan\n",
      "127.0.1.1 cartodb.localhost\n"
     ]
    }
   ],
   "source": [
    "# Remove comments and then remove blank lines\n",
    "sed -e '/\\#.*/d' -e '/^\\s*$/d' /etc/hosts"
   ]
  },
  {
   "cell_type": "markdown",
   "metadata": {},
   "source": [
    "### Silver Searcher\n",
    "\n",
    "The [Silver Searcher](https://github.com/ggreer/the_silver_searcher), quick find anything on your code"
   ]
  },
  {
   "cell_type": "code",
   "execution_count": 21,
   "metadata": {
    "ExecuteTime": {
     "end_time": "2019-05-09T13:37:46.571254Z",
     "start_time": "2019-05-09T13:37:46.407647Z"
    },
    "slideshow": {
     "slide_type": "-"
    }
   },
   "outputs": [
    {
     "name": "stdout",
     "output_type": "stream",
     "text": [
      "\u001b[1;32m/home/jsanz/src/carto/help/_app/_contents/working-with-data/development/tools.md\u001b[0m\u001b[K\n",
      "\u001b[1;33m78\u001b[0m\u001b[K:![CDB Manager]({{ site.baseurl }}/images/working-with-data/tools/\u001b[30;43mbetis\u001b[0m\u001b[K.png)\n",
      "\u001b[1;33m80\u001b[0m\u001b[K:### Why use \u001b[30;43mbetis\u001b[0m\u001b[K.carto.io?\n",
      "\u001b[1;33m82\u001b[0m\u001b[K:Normally, to use CDB Manager you would have to clone [its GitHub repo](https://github.com/CartoDB/cdb-manager), then run a Python server and open its interface via localhost. This site is a more convenient way to use the tool: [https://\u001b[30;43mbetis\u001b[0m\u001b[K.carto.io/](https://\u001b[30;43mbetis\u001b[0m\u001b[K.carto.io/) is just a static hosted version of CDB Manager.\n",
      "\u001b[1;33m84\u001b[0m\u001b[K:**Note:** We named this site `\u001b[30;43mbetis\u001b[0m\u001b[K` as a small tribute to CDB Manager's main developer, Dani Carrión. He's a huge fan of [Real \u001b[30;43mBetis\u001b[0m\u001b[K Balompié](https://en.wikipedia.org/wiki/Real_\u001b[30;43mBetis\u001b[0m\u001b[K), a Spanish football team from Seville.\n",
      "\u001b[1;33m88\u001b[0m\u001b[K:1. Visit [https://\u001b[30;43mbetis\u001b[0m\u001b[K.carto.io/](https://\u001b[30;43mbetis\u001b[0m\u001b[K.carto.io/)\n"
     ]
    }
   ],
   "source": [
    "ag betis ~/src/carto/help"
   ]
  },
  {
   "cell_type": "markdown",
   "metadata": {
    "slideshow": {
     "slide_type": "-"
    }
   },
   "source": [
    "## Accessing web services and APIs\n",
    "\n",
    "### curl\n",
    "\n",
    "https://curl.haxx.se/docs/manpage.html"
   ]
  },
  {
   "cell_type": "code",
   "execution_count": 22,
   "metadata": {
    "ExecuteTime": {
     "end_time": "2019-05-09T13:37:47.483682Z",
     "start_time": "2019-05-09T13:37:46.765904Z"
    }
   },
   "outputs": [
    {
     "name": "stdout",
     "output_type": "stream",
     "text": [
      "August 26th is the day in 1978 that Sigmund Jähn becomes first German cosmonaut, on board Soyuz 31."
     ]
    }
   ],
   "source": [
    "# accessing a simple URL\n",
    "curl http://numbersapi.com/8/26"
   ]
  },
  {
   "cell_type": "code",
   "execution_count": 23,
   "metadata": {
    "ExecuteTime": {
     "end_time": "2019-05-09T13:37:48.484864Z",
     "start_time": "2019-05-09T13:37:47.486845Z"
    }
   },
   "outputs": [
    {
     "name": "stdout",
     "output_type": "stream",
     "text": [
      "{\"rows\":[{\"user\":\"cartodb_publicuser_029cd392-0d6a-471d-83d1-f13ded9648d7\"}],\"time\":0.007,\"fields\":{\"user\":{\"type\":\"name\"}},\"total_rows\":1}"
     ]
    }
   ],
   "source": [
    "# making a POST request with a Content Type header\n",
    "curl \\\n",
    "--data '{\"q\":\"select user\"}' \\\n",
    "--header \"content-type:application/json\" \\\n",
    "https://jsanz.carto.com/api/v2/sql"
   ]
  },
  {
   "cell_type": "code",
   "execution_count": 24,
   "metadata": {
    "ExecuteTime": {
     "end_time": "2019-05-09T13:37:49.314972Z",
     "start_time": "2019-05-09T13:37:48.487769Z"
    }
   },
   "outputs": [
    {
     "name": "stdout",
     "output_type": "stream",
     "text": [
      "HTTP/1.1 200 OK\n",
      "Server: openresty\n",
      "Date: Thu, 09 May 2019 13:37:48 GMT\n",
      "Content-Type: application/json; charset=utf-8\n",
      "Connection: keep-alive\n",
      "Vary: Accept-Encoding\n",
      "Access-Control-Allow-Origin: *\n",
      "Access-Control-Allow-Headers: X-Requested-With, X-Prototype-Version, X-CSRF-Token, Authorization\n",
      "Carto-Rate-Limit-Limit: 81\n",
      "Carto-Rate-Limit-Remaining: 80\n",
      "Carto-Rate-Limit-Reset: 0\n",
      "vary: Authorization\n",
      "X-SQLAPI-Log: {\"request\":{\"sql\":{\"type\":\"query\",\"sql\":\"select user\"}}}\n",
      "Content-Disposition: inline; filename=cartodb-query.json; modification-date=\"Thu, 09 May 2019 13:37:48 GMT\";\n",
      "Cache-Control: no-cache,max-age=31536000,must-revalidate,public\n",
      "Last-Modified: Thu, 09 May 2019 13:37:48 GMT\n",
      "X-SQLAPI-Profiler: {\"authorization\":1,\"getConnectionParams\":1,\"init\":1,\"queryExplain\":5,\"eventedQuery\":1,\"beforeSink\":2,\"total\":11}\n",
      "X-Varnish: 65864067\n",
      "Age: 0\n",
      "X-Cache: MISS\n",
      "\n"
     ]
    }
   ],
   "source": [
    "# making a HEAD request\n",
    "curl \\\n",
    "--head \\\n",
    "https://jsanz.carto.com/api/v2/sql?q=select+user"
   ]
  },
  {
   "cell_type": "code",
   "execution_count": 25,
   "metadata": {
    "ExecuteTime": {
     "end_time": "2019-05-09T13:37:50.305510Z",
     "start_time": "2019-05-09T13:37:49.319266Z"
    }
   },
   "outputs": [
    {
     "name": "stdout",
     "output_type": "stream",
     "text": [
      "{\n",
      "    \"rows\": [\n",
      "        {\n",
      "            \"user\": \"cartodb_publicuser_029cd392-0d6a-471d-83d1-f13ded9648d7\"\n",
      "        }\n",
      "    ],\n",
      "    \"time\": 0.002,\n",
      "    \"fields\": {\n",
      "        \"user\": {\n",
      "            \"type\": \"name\"\n",
      "        }\n",
      "    },\n",
      "    \"total_rows\": 1\n",
      "}\n"
     ]
    }
   ],
   "source": [
    "# formatting the result using python3\n",
    "curl -s \\\n",
    "--data '{\"q\":\"select user\"}' \\\n",
    "--header \"content-type:application/json\" \\\n",
    "https://jsanz.carto.com/api/v2/sql \\\n",
    "| python3 -m json.tool"
   ]
  },
  {
   "cell_type": "markdown",
   "metadata": {
    "slideshow": {
     "slide_type": "-"
    }
   },
   "source": [
    "## Handling data"
   ]
  },
  {
   "cell_type": "markdown",
   "metadata": {},
   "source": [
    "### jq\n",
    "\n",
    "[jq](https://stedolan.github.io/jq/) is a JSON processor, more advance that just pretty printing a result"
   ]
  },
  {
   "cell_type": "code",
   "execution_count": 26,
   "metadata": {
    "ExecuteTime": {
     "end_time": "2019-05-09T13:37:51.327021Z",
     "start_time": "2019-05-09T13:37:50.309366Z"
    }
   },
   "outputs": [
    {
     "name": "stdout",
     "output_type": "stream",
     "text": [
      "\u001b[1;39m{\n",
      "  \u001b[0m\u001b[34;1m\"rows\"\u001b[0m\u001b[1;39m: \u001b[0m\u001b[1;39m[\n",
      "    \u001b[1;39m{\n",
      "      \u001b[0m\u001b[34;1m\"cartodb_id\"\u001b[0m\u001b[1;39m: \u001b[0m\u001b[0;39m2338\u001b[0m\u001b[1;39m,\n",
      "      \u001b[0m\u001b[34;1m\"scalerank\"\u001b[0m\u001b[1;39m: \u001b[0m\u001b[0;39m7\u001b[0m\u001b[1;39m,\n",
      "      \u001b[0m\u001b[34;1m\"featurecla\"\u001b[0m\u001b[1;39m: \u001b[0m\u001b[0;32m\"Populated place\"\u001b[0m\u001b[1;39m,\n",
      "      \u001b[0m\u001b[34;1m\"name\"\u001b[0m\u001b[1;39m: \u001b[0m\u001b[0;32m\"Kwekwe\"\u001b[0m\u001b[1;39m,\n",
      "      \u001b[0m\u001b[34;1m\"worldcity\"\u001b[0m\u001b[1;39m: \u001b[0m\u001b[0;39m0\u001b[0m\u001b[1;39m\n",
      "    \u001b[1;39m}\u001b[0m\u001b[1;39m,\n",
      "    \u001b[1;39m{\n",
      "      \u001b[0m\u001b[34;1m\"cartodb_id\"\u001b[0m\u001b[1;39m: \u001b[0m\u001b[0;39m2339\u001b[0m\u001b[1;39m,\n",
      "      \u001b[0m\u001b[34;1m\"scalerank\"\u001b[0m\u001b[1;39m: \u001b[0m\u001b[0;39m7\u001b[0m\u001b[1;39m,\n",
      "      \u001b[0m\u001b[34;1m\"featurecla\"\u001b[0m\u001b[1;39m: \u001b[0m\u001b[0;32m\"Populated place\"\u001b[0m\u001b[1;39m,\n",
      "      \u001b[0m\u001b[34;1m\"name\"\u001b[0m\u001b[1;39m: \u001b[0m\u001b[0;32m\"Plumtree\"\u001b[0m\u001b[1;39m,\n",
      "      \u001b[0m\u001b[34;1m\"worldcity\"\u001b[0m\u001b[1;39m: \u001b[0m\u001b[0;39m0\u001b[0m\u001b[1;39m\n",
      "    \u001b[1;39m}\u001b[0m\u001b[1;39m,\n",
      "    \u001b[1;39m{\n",
      "      \u001b[0m\u001b[34;1m\"cartodb_id\"\u001b[0m\u001b[1;39m: \u001b[0m\u001b[0;39m2340\u001b[0m\u001b[1;39m,\n",
      "      \u001b[0m\u001b[34;1m\"scalerank\"\u001b[0m\u001b[1;39m: \u001b[0m\u001b[0;39m7\u001b[0m\u001b[1;39m,\n",
      "      \u001b[0m\u001b[34;1m\"featurecla\"\u001b[0m\u001b[1;39m: \u001b[0m\u001b[0;32m\"Populated place\"\u001b[0m\u001b[1;39m,\n",
      "      \u001b[0m\u001b[34;1m\"name\"\u001b[0m\u001b[1;39m: \u001b[0m\u001b[0;32m\"Beitbridge\"\u001b[0m\u001b[1;39m,\n",
      "      \u001b[0m\u001b[34;1m\"worldcity\"\u001b[0m\u001b[1;39m: \u001b[0m\u001b[0;39m0\u001b[0m\u001b[1;39m\n",
      "    \u001b[1;39m}\u001b[0m\u001b[1;39m,\n",
      "    \u001b[1;39m{\n",
      "      \u001b[0m\u001b[34;1m\"cartodb_id\"\u001b[0m\u001b[1;39m: \u001b[0m\u001b[0;39m2341\u001b[0m\u001b[1;39m,\n",
      "      \u001b[0m\u001b[34;1m\"scalerank\"\u001b[0m\u001b[1;39m: \u001b[0m\u001b[0;39m7\u001b[0m\u001b[1;39m,\n",
      "      \u001b[0m\u001b[34;1m\"featurecla\"\u001b[0m\u001b[1;39m: \u001b[0m\u001b[0;32m\"Populated place\"\u001b[0m\u001b[1;39m,\n",
      "      \u001b[0m\u001b[34;1m\"name\"\u001b[0m\u001b[1;39m: \u001b[0m\u001b[0;32m\"Gwanda\"\u001b[0m\u001b[1;39m,\n",
      "      \u001b[0m\u001b[34;1m\"worldcity\"\u001b[0m\u001b[1;39m: \u001b[0m\u001b[0;39m0\u001b[0m\u001b[1;39m\n",
      "    \u001b[1;39m}\u001b[0m\u001b[1;39m,\n",
      "    \u001b[1;39m{\n",
      "      \u001b[0m\u001b[34;1m\"cartodb_id\"\u001b[0m\u001b[1;39m: \u001b[0m\u001b[0;39m2342\u001b[0m\u001b[1;39m,\n",
      "      \u001b[0m\u001b[34;1m\"scalerank\"\u001b[0m\u001b[1;39m: \u001b[0m\u001b[0;39m7\u001b[0m\u001b[1;39m,\n",
      "      \u001b[0m\u001b[34;1m\"featurecla\"\u001b[0m\u001b[1;39m: \u001b[0m\u001b[0;32m\"Populated place\"\u001b[0m\u001b[1;39m,\n",
      "      \u001b[0m\u001b[34;1m\"name\"\u001b[0m\u001b[1;39m: \u001b[0m\u001b[0;32m\"Chiredzi\"\u001b[0m\u001b[1;39m,\n",
      "      \u001b[0m\u001b[34;1m\"worldcity\"\u001b[0m\u001b[1;39m: \u001b[0m\u001b[0;39m0\u001b[0m\u001b[1;39m\n",
      "    \u001b[1;39m}\u001b[0m\u001b[1;39m\n",
      "  \u001b[1;39m]\u001b[0m\u001b[1;39m,\n",
      "  \u001b[0m\u001b[34;1m\"time\"\u001b[0m\u001b[1;39m: \u001b[0m\u001b[0;39m0.005\u001b[0m\u001b[1;39m,\n",
      "  \u001b[0m\u001b[34;1m\"fields\"\u001b[0m\u001b[1;39m: \u001b[0m\u001b[1;39m{\n",
      "    \u001b[0m\u001b[34;1m\"cartodb_id\"\u001b[0m\u001b[1;39m: \u001b[0m\u001b[1;39m{\n",
      "      \u001b[0m\u001b[34;1m\"type\"\u001b[0m\u001b[1;39m: \u001b[0m\u001b[0;32m\"number\"\u001b[0m\u001b[1;39m\n",
      "    \u001b[1;39m}\u001b[0m\u001b[1;39m,\n",
      "    \u001b[0m\u001b[34;1m\"scalerank\"\u001b[0m\u001b[1;39m: \u001b[0m\u001b[1;39m{\n",
      "      \u001b[0m\u001b[34;1m\"type\"\u001b[0m\u001b[1;39m: \u001b[0m\u001b[0;32m\"number\"\u001b[0m\u001b[1;39m\n",
      "    \u001b[1;39m}\u001b[0m\u001b[1;39m,\n",
      "    \u001b[0m\u001b[34;1m\"featurecla\"\u001b[0m\u001b[1;39m: \u001b[0m\u001b[1;39m{\n",
      "      \u001b[0m\u001b[34;1m\"type\"\u001b[0m\u001b[1;39m: \u001b[0m\u001b[0;32m\"string\"\u001b[0m\u001b[1;39m\n",
      "    \u001b[1;39m}\u001b[0m\u001b[1;39m,\n",
      "    \u001b[0m\u001b[34;1m\"name\"\u001b[0m\u001b[1;39m: \u001b[0m\u001b[1;39m{\n",
      "      \u001b[0m\u001b[34;1m\"type\"\u001b[0m\u001b[1;39m: \u001b[0m\u001b[0;32m\"string\"\u001b[0m\u001b[1;39m\n",
      "    \u001b[1;39m}\u001b[0m\u001b[1;39m,\n",
      "    \u001b[0m\u001b[34;1m\"worldcity\"\u001b[0m\u001b[1;39m: \u001b[0m\u001b[1;39m{\n",
      "      \u001b[0m\u001b[34;1m\"type\"\u001b[0m\u001b[1;39m: \u001b[0m\u001b[0;32m\"number\"\u001b[0m\u001b[1;39m\n",
      "    \u001b[1;39m}\u001b[0m\u001b[1;39m\n",
      "  \u001b[1;39m}\u001b[0m\u001b[1;39m,\n",
      "  \u001b[0m\u001b[34;1m\"total_rows\"\u001b[0m\u001b[1;39m: \u001b[0m\u001b[0;39m5\u001b[0m\u001b[1;39m\n",
      "\u001b[1;39m}\u001b[0m\n"
     ]
    }
   ],
   "source": [
    "# just formatting the output\n",
    "curl -s \\\n",
    "--data '{\"q\":\"select cartodb_id, scalerank, featurecla, name, worldcity from populated_places limit 5\"}' \\\n",
    "--header \"content-type:application/json\" \\\n",
    "https://jsanz.carto.com/api/v2/sql > /tmp/data.json\n",
    "\n",
    "cat /tmp/data.json | jq ."
   ]
  },
  {
   "cell_type": "code",
   "execution_count": 27,
   "metadata": {
    "ExecuteTime": {
     "end_time": "2019-05-09T13:37:51.542280Z",
     "start_time": "2019-05-09T13:37:51.330127Z"
    }
   },
   "outputs": [
    {
     "name": "stdout",
     "output_type": "stream",
     "text": [
      "\u001b[0;32m\"Kwekwe\"\u001b[0m\n",
      "\u001b[0;32m\"Plumtree\"\u001b[0m\n",
      "\u001b[0;32m\"Beitbridge\"\u001b[0m\n",
      "\u001b[0;32m\"Gwanda\"\u001b[0m\n",
      "\u001b[0;32m\"Chiredzi\"\u001b[0m\n"
     ]
    }
   ],
   "source": [
    "# processing the results to show only the names\n",
    "cat /tmp/data.json \\\n",
    "| jq \".rows[].name\""
   ]
  },
  {
   "cell_type": "code",
   "execution_count": 28,
   "metadata": {
    "ExecuteTime": {
     "end_time": "2019-05-09T13:37:51.770655Z",
     "start_time": "2019-05-09T13:37:51.544923Z"
    }
   },
   "outputs": [
    {
     "name": "stdout",
     "output_type": "stream",
     "text": [
      "\u001b[1;39m{\n",
      "  \u001b[0m\u001b[34;1m\"id\"\u001b[0m\u001b[1;39m: \u001b[0m\u001b[0;39m2338\u001b[0m\u001b[1;39m,\n",
      "  \u001b[0m\u001b[34;1m\"scale\"\u001b[0m\u001b[1;39m: \u001b[0m\u001b[0;39m7\u001b[0m\u001b[1;39m,\n",
      "  \u001b[0m\u001b[34;1m\"name\"\u001b[0m\u001b[1;39m: \u001b[0m\u001b[0;32m\"Kwekwe\"\u001b[0m\u001b[1;39m\n",
      "\u001b[1;39m}\u001b[0m\n",
      "\u001b[1;39m{\n",
      "  \u001b[0m\u001b[34;1m\"id\"\u001b[0m\u001b[1;39m: \u001b[0m\u001b[0;39m2339\u001b[0m\u001b[1;39m,\n",
      "  \u001b[0m\u001b[34;1m\"scale\"\u001b[0m\u001b[1;39m: \u001b[0m\u001b[0;39m7\u001b[0m\u001b[1;39m,\n",
      "  \u001b[0m\u001b[34;1m\"name\"\u001b[0m\u001b[1;39m: \u001b[0m\u001b[0;32m\"Plumtree\"\u001b[0m\u001b[1;39m\n",
      "\u001b[1;39m}\u001b[0m\n",
      "\u001b[1;39m{\n",
      "  \u001b[0m\u001b[34;1m\"id\"\u001b[0m\u001b[1;39m: \u001b[0m\u001b[0;39m2340\u001b[0m\u001b[1;39m,\n",
      "  \u001b[0m\u001b[34;1m\"scale\"\u001b[0m\u001b[1;39m: \u001b[0m\u001b[0;39m7\u001b[0m\u001b[1;39m,\n",
      "  \u001b[0m\u001b[34;1m\"name\"\u001b[0m\u001b[1;39m: \u001b[0m\u001b[0;32m\"Beitbridge\"\u001b[0m\u001b[1;39m\n",
      "\u001b[1;39m}\u001b[0m\n",
      "\u001b[1;39m{\n",
      "  \u001b[0m\u001b[34;1m\"id\"\u001b[0m\u001b[1;39m: \u001b[0m\u001b[0;39m2341\u001b[0m\u001b[1;39m,\n",
      "  \u001b[0m\u001b[34;1m\"scale\"\u001b[0m\u001b[1;39m: \u001b[0m\u001b[0;39m7\u001b[0m\u001b[1;39m,\n",
      "  \u001b[0m\u001b[34;1m\"name\"\u001b[0m\u001b[1;39m: \u001b[0m\u001b[0;32m\"Gwanda\"\u001b[0m\u001b[1;39m\n",
      "\u001b[1;39m}\u001b[0m\n",
      "\u001b[1;39m{\n",
      "  \u001b[0m\u001b[34;1m\"id\"\u001b[0m\u001b[1;39m: \u001b[0m\u001b[0;39m2342\u001b[0m\u001b[1;39m,\n",
      "  \u001b[0m\u001b[34;1m\"scale\"\u001b[0m\u001b[1;39m: \u001b[0m\u001b[0;39m7\u001b[0m\u001b[1;39m,\n",
      "  \u001b[0m\u001b[34;1m\"name\"\u001b[0m\u001b[1;39m: \u001b[0m\u001b[0;32m\"Chiredzi\"\u001b[0m\u001b[1;39m\n",
      "\u001b[1;39m}\u001b[0m\n"
     ]
    }
   ],
   "source": [
    "# generate a new JSON with custom properties\n",
    "cat /tmp/data.json \\\n",
    "| jq \".rows[] | {id: .cartodb_id, scale: .scalerank, name: .name}\""
   ]
  },
  {
   "cell_type": "code",
   "execution_count": 29,
   "metadata": {
    "ExecuteTime": {
     "end_time": "2019-05-09T13:37:52.737266Z",
     "start_time": "2019-05-09T13:37:51.775501Z"
    }
   },
   "outputs": [
    {
     "name": "stdout",
     "output_type": "stream",
     "text": [
      "cartoframes_ver20170406_layers1_time0_baseid0_labels0_zoom0\n",
      "cartoframes_ver20170406_layers1_time0_baseid1_labels0_zoom0\n",
      "cartoframes_ver20170406_layers1_time0_baseid1_labels0_zoom1\n",
      "cartoframes_ver20170406_layers1_time0_baseid2_labels0_zoom0\n",
      "cartoframes_ver20170406_layers1_time0_baseid2_labels0_zoom1\n",
      "cartoframes_ver20170406_layers1_time0_baseid2_labels1_zoom0\n",
      "cartoframes_ver20170406_layers1_time0_baseid2_labels1_zoom1\n",
      "tpl_01b39da5_5c92_4d43_93b8_7814b8c4037b\n",
      "tpl_042460ae_a5a4_11e6_88d3_0e233c30368f\n",
      "tpl_05f7c3cb_7faf_4397_80af_82918208096b\n"
     ]
    }
   ],
   "source": [
    "# combining with other tools\n",
    "curl -sk -G \"${CARTO_API_URL}api/v1/map/named/?api_key=${CARTO_API_KEY}\" \\\n",
    "| jq \".template_ids[]\" \\\n",
    "| tr -d '\"' \\\n",
    "| sort \\\n",
    "| head"
   ]
  },
  {
   "cell_type": "markdown",
   "metadata": {},
   "source": [
    "### json2csv\n",
    "\n",
    "https://www.npmjs.com/package/json2csv"
   ]
  },
  {
   "cell_type": "code",
   "execution_count": 30,
   "metadata": {
    "ExecuteTime": {
     "end_time": "2019-05-09T13:37:53.137621Z",
     "start_time": "2019-05-09T13:37:52.739730Z"
    }
   },
   "outputs": [
    {
     "name": "stdout",
     "output_type": "stream",
     "text": [
      "\"cartodb_id\",\"scalerank\",\"featurecla\",\"name\",\"worldcity\"\n",
      "2338,7,\"Populated place\",\"Kwekwe\",0\n",
      "2339,7,\"Populated place\",\"Plumtree\",0\n",
      "2340,7,\"Populated place\",\"Beitbridge\",0\n",
      "2341,7,\"Populated place\",\"Gwanda\",0\n",
      "2342,7,\"Populated place\",\"Chiredzi\",0"
     ]
    }
   ],
   "source": [
    "cat /tmp/data.json | jq \".rows[]\" \\\n",
    "| json2csv > /tmp/data.csv\n",
    "\n",
    "cat /tmp/data.csv"
   ]
  },
  {
   "cell_type": "markdown",
   "metadata": {},
   "source": [
    "### csvkit\n",
    "https://csvkit.readthedocs.io/en/latest/\n",
    "\n",
    "* `csvclean`: fix common CSV problems\n",
    "* `csvcut`: remove columns\n",
    "* `csvgrep`: filtering data\n",
    "* `csvjoin`: join two CSVs by a given column\n",
    "* `csvjson`: generate json or GeoJSON\n",
    "* `csvlook`: pretty print CSV\n",
    "* `csvstat`: basic statistics"
   ]
  },
  {
   "cell_type": "code",
   "execution_count": 31,
   "metadata": {
    "ExecuteTime": {
     "end_time": "2019-05-09T13:37:53.589574Z",
     "start_time": "2019-05-09T13:37:53.140901Z"
    }
   },
   "outputs": [
    {
     "name": "stdout",
     "output_type": "stream",
     "text": [
      "| cartodb_id | scalerank | featurecla      | name       | worldcity |\n",
      "| ---------- | --------- | --------------- | ---------- | --------- |\n",
      "|      2.338 |         7 | Populated place | Kwekwe     |     False |\n",
      "|      2.339 |         7 | Populated place | Plumtree   |     False |\n",
      "|      2.340 |         7 | Populated place | Beitbridge |     False |\n",
      "|      2.341 |         7 | Populated place | Gwanda     |     False |\n",
      "|      2.342 |         7 | Populated place | Chiredzi   |     False |\n"
     ]
    }
   ],
   "source": [
    "# convert to CSV and pretty print the table\n",
    "cat /tmp/data.csv \\\n",
    "| csvlook"
   ]
  },
  {
   "cell_type": "code",
   "execution_count": 32,
   "metadata": {
    "ExecuteTime": {
     "end_time": "2019-05-09T13:37:54.047088Z",
     "start_time": "2019-05-09T13:37:53.592591Z"
    }
   },
   "outputs": [
    {
     "name": "stdout",
     "output_type": "stream",
     "text": [
      "| cartodb_id | scalerank | featurecla      | name     | worldcity |\n",
      "| ---------- | --------- | --------------- | -------- | --------- |\n",
      "|      2.339 |         7 | Populated place | Plumtree |     False |\n"
     ]
    }
   ],
   "source": [
    "cat /tmp/data.csv \\\n",
    "| csvgrep -c 4 -m tree \\\n",
    "| csvlook"
   ]
  },
  {
   "cell_type": "code",
   "execution_count": 33,
   "metadata": {
    "ExecuteTime": {
     "end_time": "2019-05-09T13:37:54.413107Z",
     "start_time": "2019-05-09T13:37:54.050960Z"
    }
   },
   "outputs": [
    {
     "name": "stdout",
     "output_type": "stream",
     "text": [
      "  1. \"cartodb_id\"\n",
      "\n",
      "\tType of data:          Number\n",
      "\tContains null values:  False\n",
      "\tUnique values:         5\n",
      "\tSmallest value:        2.338\n",
      "\tLargest value:         2.342\n",
      "\tSum:                   11.700\n",
      "\tMean:                  2.340\n",
      "\tMedian:                2.340\n",
      "\tStDev:                 1,581\n",
      "\tMost common values:    2.338 (1x)\n",
      "\t                       2.339 (1x)\n",
      "\t                       2.340 (1x)\n",
      "\t                       2.341 (1x)\n",
      "\t                       2.342 (1x)\n",
      "\n",
      "  2. \"scalerank\"\n",
      "\n",
      "\tType of data:          Number\n",
      "\tContains null values:  False\n",
      "\tUnique values:         1\n",
      "\tSmallest value:        7\n",
      "\tLargest value:         7\n",
      "\tSum:                   35\n",
      "\tMean:                  7\n",
      "\tMedian:                7\n",
      "\tStDev:                 0\n",
      "\tMost common values:    7 (5x)\n",
      "\n",
      "  3. \"featurecla\"\n",
      "\n",
      "\tType of data:          Text\n",
      "\tContains null values:  False\n",
      "\tUnique values:         1\n",
      "\tLongest value:         15 characters\n",
      "\tMost common values:    Populated place (5x)\n",
      "\n",
      "  4. \"name\"\n",
      "\n",
      "\tType of data:          Text\n",
      "\tContains null values:  False\n",
      "\tUnique values:         5\n",
      "\tLongest value:         10 characters\n",
      "\tMost common values:    Kwekwe (1x)\n",
      "\t                       Plumtree (1x)\n",
      "\t                       Beitbridge (1x)\n",
      "\t                       Gwanda (1x)\n",
      "\t                       Chiredzi (1x)\n",
      "\n",
      "  5. \"worldcity\"\n",
      "\n",
      "\tType of data:          Boolean\n",
      "\tContains null values:  False\n",
      "\tUnique values:         1\n",
      "\tMost common values:    False (5x)\n",
      "\n",
      "Row count: 5\n"
     ]
    }
   ],
   "source": [
    "cat /tmp/data.csv | csvstat"
   ]
  },
  {
   "cell_type": "markdown",
   "metadata": {},
   "source": [
    "## OGR\n",
    "\n",
    "OGR is the vector brother of the well-known GDAL library to process raster geospatial data.\n",
    "\n",
    "There are two interesting commands to learn to inspect and process geospatial datasets:\n",
    "\n",
    "* [`ogrinfo`](https://www.gdal.org/ogrinfo.html)\n",
    "* [`ogr2ogr`](https://www.gdal.org/ogr2ogr.html)"
   ]
  },
  {
   "cell_type": "code",
   "execution_count": 34,
   "metadata": {
    "ExecuteTime": {
     "end_time": "2019-05-09T13:37:54.719368Z",
     "start_time": "2019-05-09T13:37:54.415724Z"
    }
   },
   "outputs": [
    {
     "name": "stdout",
     "output_type": "stream",
     "text": [
      "INFO: Open of `/home/jsanz/media/carto/flights.gpkg'\n",
      "      using driver `GPKG' successful.\n",
      "\n",
      "Layer name: cartodb-query\n",
      "Geometry: Point\n",
      "Feature Count: 395633\n",
      "Extent: (-158.517000, 17.962500) - (-65.685200, 62.540400)\n",
      "Layer SRS WKT:\n",
      "GEOGCS[\"WGS 84\",\n",
      "    DATUM[\"WGS_1984\",\n",
      "        SPHEROID[\"WGS 84\",6378137,298.257223563,\n",
      "            AUTHORITY[\"EPSG\",\"7030\"]],\n",
      "        AUTHORITY[\"EPSG\",\"6326\"]],\n",
      "    PRIMEM[\"Greenwich\",0,\n",
      "        AUTHORITY[\"EPSG\",\"8901\"]],\n",
      "    UNIT[\"degree\",0.0174532925199433,\n",
      "        AUTHORITY[\"EPSG\",\"9122\"]],\n",
      "    AUTHORITY[\"EPSG\",\"4326\"]]\n",
      "FID Column = cartodb_id\n",
      "Geometry Column = geom\n",
      "mfr_mdl_code: Integer (0.0)\n",
      "fid: Integer (0.0)\n",
      "adshex: String (0.0)\n",
      "latitude: Real (0.0)\n",
      "longitude: Real (0.0)\n",
      "altitude: Integer (0.0)\n",
      "speed: Integer (0.0)\n",
      "track: Integer (0.0)\n",
      "squawk: Integer (0.0)\n",
      "timestamp: DateTime (0.0)\n",
      "year_mfr: Integer (0.0)\n",
      "type_aircraft: Integer (0.0)\n",
      "agency: String (0.0)\n",
      "flight_id: String (0.0)\n",
      "mfr: String (0.0)\n",
      "model: String (0.0)\n",
      "n_number: String (0.0)\n",
      "name: String (0.0)\n",
      "other_names1: String (0.0)\n",
      "other_names2: String (0.0)\n",
      "serial_number: String (0.0)\n",
      "type: String (0.0)\n"
     ]
    }
   ],
   "source": [
    "# ogrinfo presents an overview of a layer from a data source: type, extent, SRS, schema, etc\n",
    "ogrinfo -summary ~/media/carto/flights.gpkg cartodb-query"
   ]
  },
  {
   "cell_type": "code",
   "execution_count": 35,
   "metadata": {
    "ExecuteTime": {
     "end_time": "2019-05-09T13:37:55.394085Z",
     "start_time": "2019-05-09T13:37:54.722397Z"
    }
   },
   "outputs": [],
   "source": [
    "# ogr2ogr processes and converts a datasource between different formats\n",
    "\n",
    "# on this example we generate a new Geopackage only with one geometry from the original dataset\n",
    "# this is useful to upload to carto only a dataset definition (after importing you delete that single row)\n",
    "ogr2ogr \\\n",
    "-f GPKG  \\\n",
    "-overwrite \\\n",
    "-limit 1 \\\n",
    "-nln flights_first \\\n",
    "/tmp/flights_first.gpkg ~/media/carto/flights.gpkg"
   ]
  },
  {
   "cell_type": "code",
   "execution_count": 36,
   "metadata": {
    "ExecuteTime": {
     "end_time": "2019-05-09T13:37:55.591442Z",
     "start_time": "2019-05-09T13:37:55.398561Z"
    }
   },
   "outputs": [
    {
     "name": "stdout",
     "output_type": "stream",
     "text": [
      "INFO: Open of `/tmp/flights_first.gpkg'\n",
      "      using driver `GPKG' successful.\n",
      "\n",
      "Layer name: flights_first\n",
      "Geometry: Point\n",
      "Feature Count: 1\n",
      "Extent: (-122.137000, 37.709900) - (-122.137000, 37.709900)\n"
     ]
    }
   ],
   "source": [
    "ogrinfo -summary /tmp/flights_first.gpkg flights_first \\\n",
    "| head -n7"
   ]
  },
  {
   "cell_type": "markdown",
   "metadata": {
    "slideshow": {
     "slide_type": "-"
    }
   },
   "source": [
    "## Miscellany\n",
    "\n",
    "### autojump\n",
    "\n",
    "Jump around your file system without traversing folders\n",
    "\n",
    "https://github.com/wting/autojump\n",
    "\n",
    "I have _aliased_ the command `autojump` to the key `j` because I'm **so** lazy\n",
    "\n",
    "![](http://i.imgur.com/pWjmHWo.png)"
   ]
  },
  {
   "cell_type": "markdown",
   "metadata": {},
   "source": [
    "### pigz\n",
    "\n",
    "`pigz` is a parallized version of `gzip`, it uses all your cores to compress/decompress your files\n",
    "\n",
    "![](http://i.imgur.com/iakglWV.png)\n"
   ]
  },
  {
   "cell_type": "markdown",
   "metadata": {
    "ExecuteTime": {
     "end_time": "2019-05-08T16:39:27.018229Z",
     "start_time": "2019-05-08T16:39:20.235509Z"
    }
   },
   "source": [
    "### htop \n",
    "\n",
    "`htop`is a convenient way to inspect your running process, filter, kill, etc\n",
    "\n",
    "![](http://i.imgur.com/oPbCpt6.png)"
   ]
  },
  {
   "cell_type": "markdown",
   "metadata": {
    "ExecuteTime": {
     "end_time": "2019-05-09T13:14:54.653266Z",
     "start_time": "2019-05-09T13:14:54.284140Z"
    }
   },
   "source": [
    "### duc\n",
    "\n",
    "`duc` is a _cached du_ command, that is, a tool that builds an index of how your hard disk is being used and helps you understand where your gigabytes are. It comes with cli and graphical interfaces."
   ]
  },
  {
   "cell_type": "code",
   "execution_count": 37,
   "metadata": {
    "ExecuteTime": {
     "end_time": "2019-05-09T13:37:55.708461Z",
     "start_time": "2019-05-09T13:37:55.593435Z"
    }
   },
   "outputs": [
    {
     "name": "stdout",
     "output_type": "stream",
     "text": [
      " 15.4G ncdc\n",
      "  6.6G osm\n",
      "  2.6G ordenance_survey\n",
      "  2.6G nba\n",
      "  1.4G gadm\n",
      "  1.4G geonames\n",
      "1013.2M waze\n",
      "858.2M zcta\n",
      "842.6M catastro-osm\n",
      "664.8M landast\n"
     ]
    }
   ],
   "source": [
    "duc ls ~/media/carto | head"
   ]
  },
  {
   "cell_type": "markdown",
   "metadata": {},
   "source": [
    "![](http://i.imgur.com/LUMmJt4.png)"
   ]
  },
  {
   "cell_type": "markdown",
   "metadata": {},
   "source": [
    "### translate"
   ]
  },
  {
   "cell_type": "code",
   "execution_count": 38,
   "metadata": {
    "ExecuteTime": {
     "end_time": "2019-05-09T13:37:57.125836Z",
     "start_time": "2019-05-09T13:37:55.710708Z"
    },
    "slideshow": {
     "slide_type": "-"
    }
   },
   "outputs": [
    {
     "name": "stdout",
     "output_type": "stream",
     "text": [
      "\u001b[1m\u001b[96mWhen he woke up, the dinosaur was still there\u001b[0m\u001b[22m\n",
      "\u001b[1m\u001b[96m当他醒来时，恐龙还在那里\u001b[0m\u001b[22m\n",
      "\u001b[1m\u001b[96m彼が目を覚ましたとき、恐竜はまだそこにいました\u001b[0m\u001b[22m\n"
     ]
    }
   ],
   "source": [
    "# Translator using several providers\n",
    "# https://github.com/soimort/translate-shell\n",
    "trans -brief es:en 'cuando se despertó, el dinosaurio aún estaba allí'\n",
    "trans -brief es:zh+ja 'cuando se despertó, el dinosaurio aún estaba allí'"
   ]
  },
  {
   "cell_type": "markdown",
   "metadata": {},
   "source": [
    "### pygmentize"
   ]
  },
  {
   "cell_type": "code",
   "execution_count": 39,
   "metadata": {
    "ExecuteTime": {
     "end_time": "2019-05-09T13:37:59.362344Z",
     "start_time": "2019-05-09T13:37:57.132456Z"
    },
    "slideshow": {
     "slide_type": "-"
    }
   },
   "outputs": [
    {
     "name": "stdout",
     "output_type": "stream",
     "text": [
      "\u001b[38;5;124m\"\"\"\u001b[39m\n",
      "\u001b[38;5;124mModule for defining response objects\u001b[39m\n",
      "\n",
      "\u001b[38;5;124m.. module:: carto.fields\u001b[39m\n",
      "\u001b[38;5;124m   :platform: Unix, Windows\u001b[39m\n",
      "\u001b[38;5;124m   :synopsis: Module for defining response objects\u001b[39m\n",
      "\n",
      "\u001b[38;5;124m.. moduleauthor:: Daniel Carrion <daniel@carto.com>\u001b[39m\n",
      "\u001b[38;5;124m.. moduleauthor:: Alberto Romeu <alrocar@carto.com>\u001b[39m\n",
      "\n",
      "\n",
      "\u001b[38;5;124m\"\"\"\u001b[39m\n",
      "\n",
      "\u001b[38;5;28;01mfrom\u001b[39;00m \u001b[38;5;21;01mpyrestcli.fields\u001b[39;00m \u001b[38;5;28;01mimport\u001b[39;00m ResourceField\n",
      "\n",
      "\n",
      "\u001b[38;5;28;01mclass\u001b[39;00m \u001b[38;5;21;01mVisualizationField\u001b[39;00m(ResourceField):\n",
      "    \u001b[38;5;124m\"\"\"\u001b[39m\n",
      "\u001b[38;5;124m    :class:`carto.visualizations.Visualization`\u001b[39m\n",
      "\u001b[38;5;124m    \"\"\"\u001b[39m\n",
      "    value_class \u001b[38;5;241m=\u001b[39m \u001b[38;5;124m\"\u001b[39m\u001b[38;5;124mcarto.visualizations.Visualization\u001b[39m\u001b[38;5;124m\"\u001b[39m\n",
      "\n",
      "\n",
      "\u001b[38;5;28;01mclass\u001b[39;00m \u001b[38;5;21;01mTableField\u001b[39;00m(ResourceField):\n",
      "    \u001b[38;5;124m\"\"\"\u001b[39m\n",
      "\u001b[38;5;124m    :class:`carto.tables.Table`\u001b[39m\n",
      "\u001b[38;5;124m    \"\"\"\u001b[39m\n",
      "    value_class \u001b[38;5;241m=\u001b[39m \u001b[38;5;124m\"\u001b[39m\u001b[38;5;124mcarto.tables.Table\u001b[39m\u001b[38;5;124m\"\u001b[39m\n",
      "\n",
      "\n",
      "\u001b[38;5;28;01mclass\u001b[39;00m \u001b[38;5;21;01mUserField\u001b[39;00m(ResourceField):\n",
      "    \u001b[38;5;124m\"\"\"\u001b[39m\n",
      "\u001b[38;5;124m    :class:`carto.users.User`\u001b[39m\n",
      "\u001b[38;5;124m    \"\"\"\u001b[39m\n",
      "    value_class \u001b[38;5;241m=\u001b[39m \u001b[38;5;124m\"\u001b[39m\u001b[38;5;124mcarto.users.User\u001b[39m\u001b[38;5;124m\"\u001b[39m\n",
      "\n",
      "\n",
      "\u001b[38;5;28;01mclass\u001b[39;00m \u001b[38;5;21;01mEntityField\u001b[39;00m(ResourceField):\n",
      "    \u001b[38;5;124m\"\"\"\u001b[39m\n",
      "\u001b[38;5;124m    :class:`carto.permissions.Entity`\u001b[39m\n",
      "\u001b[38;5;124m    \"\"\"\u001b[39m\n",
      "    value_class \u001b[38;5;241m=\u001b[39m \u001b[38;5;124m\"\u001b[39m\u001b[38;5;124mcarto.permissions.Entity\u001b[39m\u001b[38;5;124m\"\u001b[39m\n",
      "\n",
      "\n",
      "\u001b[38;5;28;01mclass\u001b[39;00m \u001b[38;5;21;01mPermissionField\u001b[39;00m(ResourceField):\n",
      "    \u001b[38;5;124m\"\"\"\u001b[39m\n",
      "\u001b[38;5;124m    :class:`carto.permissions.Permission`\u001b[39m\n",
      "\u001b[38;5;124m    \"\"\"\u001b[39m\n",
      "    value_class \u001b[38;5;241m=\u001b[39m \u001b[38;5;124m\"\u001b[39m\u001b[38;5;124mcarto.permissions.Permission\u001b[39m\u001b[38;5;124m\"\u001b[39m\n"
     ]
    }
   ],
   "source": [
    "# Pretty print source code\n",
    "# http://pygments.org/docs/cmdline/\n",
    "pygmentize -g /home/jsanz/src/sdks/carto-python/carto/fields.py"
   ]
  },
  {
   "cell_type": "markdown",
   "metadata": {
    "slideshow": {
     "slide_type": "-"
    }
   },
   "source": [
    "## Resources\n",
    "\n",
    "* [The complete introduction to The Command Line](http://linuxcommand.org/tlcl.php)\n",
    "* [Solutions summit 2017 CLI talk](http://cartodb.github.io/talks/1704-cli/)\n",
    "* [useful commands to get info about your system](https://www.tecmint.com/commands-to-collect-system-and-hardware-information-in-linux/)\n",
    "* [for loops](https://www.cyberciti.biz/faq/bash-for-loop/)\n",
    "* [if statements](https://ryanstutorials.net/bash-scripting-tutorial/bash-if-statements.php#introduction)\n",
    "* [about redirections](https://catonmat.net/bash-one-liners-explained-part-three)\n",
    "* [35 find examples](http://www.tecmint.com/35-practical-examples-of-linux-find-command/)\n",
    "* `sed` examples: [1](https://www.ibm.com/developerworks/library/l-sed1/), [2](https://www.ibm.com/developerworks/library/l-sed2/)\n",
    "  and [3](https://www.ibm.com/developerworks/library/l-sed3/)"
   ]
  }
 ],
 "metadata": {
  "kernelspec": {
   "display_name": "Bash",
   "language": "bash",
   "name": "bash"
  },
  "language_info": {
   "codemirror_mode": "shell",
   "file_extension": ".sh",
   "mimetype": "text/x-sh",
   "name": "bash"
  }
 },
 "nbformat": 4,
 "nbformat_minor": 2
}
