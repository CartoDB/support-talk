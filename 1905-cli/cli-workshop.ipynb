{
 "cells": [
  {
   "cell_type": "markdown",
   "metadata": {
    "slideshow": {
     "slide_type": "-"
    }
   },
   "source": [
    "# CLI workshop\n",
    "\n",
    "CARTO Solutions Technical Workshops\n",
    "\n",
    "Jorge Sanz · May 2019\n",
    "\n",
    "---\n",
    "\n",
    "> This workshop is intended to show why using a command line interface can be useful on many of our everyday tasks, and more convenient and effective than other graphical interfaces.\n",
    "\n",
    "---\n",
    "\n",
    "## Contents\n",
    "\n",
    "* Intro\n",
    "* Some basic commands\n",
    "* Viewing and finding things\n",
    "* Accessing APIs and web services\n",
    "* Handling local data\n",
    "* Miscellany"
   ]
  },
  {
   "cell_type": "markdown",
   "metadata": {
    "slideshow": {
     "slide_type": "-"
    }
   },
   "source": [
    "## CLI versus GUI\n",
    "\n",
    "| _ | CLI | GUI |\n",
    "|---| --- | --- |\n",
    "| Eease | ❌  | ✅ |\n",
    "| Functionality | ✅ | ❌  | \n",
    "| Speed |  ✅ |  ❌ |\n",
    "| Multitasking | ❌  | ✅ |\n",
    "| Automation | ✅ | ❌  | \n"
   ]
  },
  {
   "cell_type": "markdown",
   "metadata": {
    "slideshow": {
     "slide_type": "-"
    }
   },
   "source": [
    "## When to use the command line\n",
    "\n",
    "* Repeated tasks\n",
    "* Greater control over functionality\n",
    "* Dealing with lots of information\n",
    "* Focus in the process\n",
    "* Accessing remote servers"
   ]
  },
  {
   "cell_type": "markdown",
   "metadata": {
    "slideshow": {
     "slide_type": "-"
    }
   },
   "source": [
    "## Piping and redirections"
   ]
  },
  {
   "cell_type": "code",
   "execution_count": 7,
   "metadata": {
    "slideshow": {
     "slide_type": "-"
    }
   },
   "outputs": [
    {
     "name": "stdout",
     "output_type": "stream",
     "text": [
      "127.0.0.1\t\u001b[01;31m\u001b[Klocalhost\u001b[m\u001b[K\n",
      "::1     ip6-\u001b[01;31m\u001b[Klocalhost\u001b[m\u001b[K ip6-loopback\n",
      "127.0.1.1 cartodb.\u001b[01;31m\u001b[Klocalhost\u001b[m\u001b[K\n"
     ]
    }
   ],
   "source": [
    "# pipe the result of a command into another\n",
    "cat /etc/hosts | grep localhost"
   ]
  },
  {
   "cell_type": "code",
   "execution_count": 8,
   "metadata": {
    "slideshow": {
     "slide_type": "-"
    }
   },
   "outputs": [],
   "source": [
    "# write the contents of a command results into a file (overwriting)\n",
    "cat /etc/hosts > /tmp/myhosts"
   ]
  },
  {
   "cell_type": "markdown",
   "metadata": {
    "slideshow": {
     "slide_type": "-"
    }
   },
   "source": [
    "## Basic commands\n",
    "\n",
    "* Remember you can use the arrow keys to browse your history.\n",
    "* The `HISTSIZE` environment variable defines the size of your history.\n",
    "* `Ctrl + r` allows you to search on your history\n",
    "* `!!` executes the previous command\n",
    "* `CTL + L` clean the screen (same as executing `clear` command)\n",
    "* `CTL + A`, `CTL + E`: go to the begin/end of the line"
   ]
  },
  {
   "cell_type": "code",
   "execution_count": 25,
   "metadata": {},
   "outputs": [
    {
     "name": "stdout",
     "output_type": "stream",
     "text": [
      "Linux aldaia 4.15.0-47-generic #50-Ubuntu SMP Wed Mar 13 10:44:52 UTC 2019 x86_64 x86_64 x86_64 GNU/Linux\n"
     ]
    }
   ],
   "source": [
    "# Show system info\n",
    "uname -a"
   ]
  },
  {
   "cell_type": "code",
   "execution_count": 1,
   "metadata": {
    "slideshow": {
     "slide_type": "-"
    }
   },
   "outputs": [
    {
     "name": "stdout",
     "output_type": "stream",
     "text": [
      "jsanz\n"
     ]
    }
   ],
   "source": [
    "# Show the current user\n",
    "whoami"
   ]
  },
  {
   "cell_type": "code",
   "execution_count": 2,
   "metadata": {
    "slideshow": {
     "slide_type": "-"
    }
   },
   "outputs": [
    {
     "name": "stdout",
     "output_type": "stream",
     "text": [
      "/home/jsanz/src/carto/talks/1905-cli\n"
     ]
    }
   ],
   "source": [
    "# Show the current directory\n",
    "pwd"
   ]
  },
  {
   "cell_type": "code",
   "execution_count": 3,
   "metadata": {
    "slideshow": {
     "slide_type": "-"
    }
   },
   "outputs": [
    {
     "name": "stdout",
     "output_type": "stream",
     "text": [
      "2019-04-24 15:34:03\n"
     ]
    }
   ],
   "source": [
    "# Show the current date\n",
    "date +%F\\ %T "
   ]
  },
  {
   "cell_type": "code",
   "execution_count": 9,
   "metadata": {
    "ExecuteTime": {
     "end_time": "2019-05-08T16:12:00.948395Z",
     "start_time": "2019-05-08T16:12:00.793996Z"
    },
    "slideshow": {
     "slide_type": "-"
    }
   },
   "outputs": [
    {
     "name": "stdout",
     "output_type": "stream",
     "text": [
      "1000\n"
     ]
    }
   ],
   "source": [
    "# Print a variable\n",
    "echo $HISTSIZE"
   ]
  },
  {
   "cell_type": "code",
   "execution_count": 33,
   "metadata": {},
   "outputs": [
    {
     "name": "stdout",
     "output_type": "stream",
     "text": [
      "Filesystem                   Size  Used Avail Use% Mounted on\n",
      "udev                         7,8G     0  7,8G   0% /dev\n",
      "tmpfs                        1,6G  1,8M  1,6G   1% /run\n",
      "/dev/mapper/ubuntu--vg-root  424G  371G   33G  93% /\n",
      "tmpfs                        7,8G  156M  7,7G   2% /dev/shm\n",
      "tmpfs                        5,0M  4,0K  5,0M   1% /run/lock\n",
      "tmpfs                        7,8G     0  7,8G   0% /sys/fs/cgroup\n",
      "/dev/sda1                    472M  184M  265M  41% /boot\n",
      "tmpfs                        1,6G   52K  1,6G   1% /run/user/1000\n",
      "/dev/fuse                    250G  1,0K  250G   1% /run/user/1000/keybase/kbfs\n"
     ]
    }
   ],
   "source": [
    "# Print disk status\n",
    "df -h | grep -v loop"
   ]
  },
  {
   "cell_type": "code",
   "execution_count": 27,
   "metadata": {
    "ExecuteTime": {
     "end_time": "2019-05-08T16:38:15.909850Z",
     "start_time": "2019-05-08T16:38:15.728240Z"
    }
   },
   "outputs": [
    {
     "name": "stdout",
     "output_type": "stream",
     "text": [
      "jsanz     2008  0.0  0.0  10948   912 ?        S    17:41   0:00 /bin/sh -c \u001b[01;31m\u001b[Kunclutter\u001b[m\u001b[K\n",
      "jsanz     2010  0.0  0.0  30944  2704 ?        S    17:41   0:00 \u001b[01;31m\u001b[Kunclutter\u001b[m\u001b[K\n",
      "jsanz    13493  0.0  0.0  17728  1068 pts/1    S+   18:38   0:00 grep --color=auto \u001b[01;31m\u001b[Kunclutter\u001b[m\u001b[K\n"
     ]
    }
   ],
   "source": [
    "# Find processes\n",
    "ps aux | grep unclutter"
   ]
  },
  {
   "cell_type": "code",
   "execution_count": 29,
   "metadata": {
    "ExecuteTime": {
     "end_time": "2019-05-08T16:39:00.879864Z",
     "start_time": "2019-05-08T16:39:00.649783Z"
    }
   },
   "outputs": [
    {
     "name": "stdout",
     "output_type": "stream",
     "text": [
      "jsanz    13510  0.0  0.0  17728  1040 pts/1    S+   18:38   0:00 grep --color=auto \u001b[01;31m\u001b[Kunclutter\u001b[m\u001b[K\n"
     ]
    }
   ],
   "source": [
    "# Send a kill signal to the unclutter processs\n",
    "kill -9 2010\n",
    "ps aux | grep unclutter"
   ]
  },
  {
   "cell_type": "markdown",
   "metadata": {
    "slideshow": {
     "slide_type": "-"
    }
   },
   "source": [
    "## Scripting\n",
    "\n",
    "You can write pretty complex scripts using bash that include functions, control structures, and so on."
   ]
  },
  {
   "cell_type": "code",
   "execution_count": 10,
   "metadata": {
    "ExecuteTime": {
     "end_time": "2019-05-08T16:12:17.313864Z",
     "start_time": "2019-05-08T16:12:17.003739Z"
    },
    "slideshow": {
     "slide_type": "-"
    }
   },
   "outputs": [
    {
     "name": "stdout",
     "output_type": "stream",
     "text": [
      "Welcome 1\n",
      "Welcome 2\n",
      "Welcome 3\n",
      "Welcome 4\n",
      "Welcome 5\n"
     ]
    }
   ],
   "source": [
    "# You can do for loops\n",
    "for i in {1..5}\n",
    "do\n",
    "   echo \"Welcome $i\"\n",
    "done"
   ]
  },
  {
   "cell_type": "code",
   "execution_count": 6,
   "metadata": {
    "slideshow": {
     "slide_type": "-"
    }
   },
   "outputs": [
    {
     "name": "stdout",
     "output_type": "stream",
     "text": [
      "Big History!\n"
     ]
    }
   ],
   "source": [
    "# If structures... and much more\n",
    "if [ $HISTSIZE -gt 500 ]\n",
    "then\n",
    "    echo \"Big History!\"\n",
    "else\n",
    "    echo \"Short History\"\n",
    "fi"
   ]
  },
  {
   "cell_type": "markdown",
   "metadata": {
    "slideshow": {
     "slide_type": "-"
    }
   },
   "source": [
    "## Viewing and finding"
   ]
  },
  {
   "cell_type": "markdown",
   "metadata": {
    "slideshow": {
     "slide_type": "-"
    }
   },
   "source": [
    "### wc and cat"
   ]
  },
  {
   "cell_type": "code",
   "execution_count": 9,
   "metadata": {
    "slideshow": {
     "slide_type": "-"
    }
   },
   "outputs": [
    {
     "name": "stdout",
     "output_type": "stream",
     "text": [
      " 28  54 631 /etc/hosts\n"
     ]
    }
   ],
   "source": [
    "# Counting lines, words, and characters\n",
    "wc /etc/hosts"
   ]
  },
  {
   "cell_type": "code",
   "execution_count": 10,
   "metadata": {
    "slideshow": {
     "slide_type": "-"
    }
   },
   "outputs": [
    {
     "name": "stdout",
     "output_type": "stream",
     "text": [
      "28 /etc/hosts\n"
     ]
    }
   ],
   "source": [
    "# Usually we only want the lines\n",
    "wc -l /etc/hosts"
   ]
  },
  {
   "cell_type": "code",
   "execution_count": 11,
   "metadata": {
    "slideshow": {
     "slide_type": "-"
    }
   },
   "outputs": [
    {
     "name": "stdout",
     "output_type": "stream",
     "text": [
      "127.0.0.1\tlocalhost\n",
      "127.0.1.1\taldaia\n",
      "\n",
      "# The following lines are desirable for IPv6 capable hosts\n",
      "::1     ip6-localhost ip6-loopback\n"
     ]
    }
   ],
   "source": [
    "# Print the beginning of a file\n",
    "cat /etc/hosts | head -n5"
   ]
  },
  {
   "cell_type": "code",
   "execution_count": 12,
   "metadata": {
    "slideshow": {
     "slide_type": "-"
    }
   },
   "outputs": [
    {
     "name": "stdout",
     "output_type": "stream",
     "text": [
      "## vagrant-hostmanager\n",
      "#10.0.2.70 grafana.cartodb.net\n",
      "#10.0.2.82 kibana.cartodb.net\n",
      "\n",
      "127.0.1.1 cartodb.localhost\n"
     ]
    }
   ],
   "source": [
    "# Same with the end\n",
    "cat /etc/hosts | tail -n5"
   ]
  },
  {
   "cell_type": "code",
   "execution_count": 20,
   "metadata": {
    "ExecuteTime": {
     "end_time": "2019-05-08T16:15:17.099179Z",
     "start_time": "2019-05-08T16:15:16.939030Z"
    },
    "slideshow": {
     "slide_type": "-"
    }
   },
   "outputs": [
    {
     "name": "stdout",
     "output_type": "stream",
     "text": [
      "58\n"
     ]
    }
   ],
   "source": [
    "# Combining pipes with wc to count how many files are in a folder\n",
    "ls /var/log/*.log* | wc -l"
   ]
  },
  {
   "cell_type": "markdown",
   "metadata": {
    "slideshow": {
     "slide_type": "-"
    }
   },
   "source": [
    "### find"
   ]
  },
  {
   "cell_type": "code",
   "execution_count": 21,
   "metadata": {
    "ExecuteTime": {
     "end_time": "2019-05-08T16:15:41.364488Z",
     "start_time": "2019-05-08T16:15:41.143782Z"
    },
    "slideshow": {
     "slide_type": "-"
    }
   },
   "outputs": [
    {
     "name": "stdout",
     "output_type": "stream",
     "text": [
      "203\n"
     ]
    }
   ],
   "source": [
    "# Finding all files inside a folder based in their names and types\n",
    "# we redirect errors to the black hole at /dev/null\n",
    "find /var/log -type f -name \"*log*\" 2> /dev/null | wc -l"
   ]
  },
  {
   "cell_type": "code",
   "execution_count": 22,
   "metadata": {
    "ExecuteTime": {
     "end_time": "2019-05-08T16:15:44.999742Z",
     "start_time": "2019-05-08T16:15:44.840144Z"
    },
    "slideshow": {
     "slide_type": "-"
    }
   },
   "outputs": [
    {
     "ename": "",
     "evalue": "1",
     "output_type": "error",
     "traceback": []
    }
   ],
   "source": [
    "# Finding and deleting\n",
    "find /tmp/ -name \".DS_Store\" -type f -delete 2> /dev/null"
   ]
  },
  {
   "cell_type": "code",
   "execution_count": 23,
   "metadata": {
    "ExecuteTime": {
     "end_time": "2019-05-08T16:15:51.508534Z",
     "start_time": "2019-05-08T16:15:47.600637Z"
    },
    "slideshow": {
     "slide_type": "-"
    }
   },
   "outputs": [
    {
     "name": "stdout",
     "output_type": "stream",
     "text": [
      "13 /home/jsanz/src/carto/blog/.gitignore\n",
      "1 /home/jsanz/src/carto/carto-workshop/.gitignore\n",
      "3 /home/jsanz/src/carto/carto-workshop/06-sdks/exercises/python_SDK/.gitignore\n",
      "3 /home/jsanz/src/carto/onpremises/.gitignore\n",
      "2 /home/jsanz/src/carto/onpremises/omnibus/.gitignore\n",
      "1 /home/jsanz/src/carto/onpremises/doc/.gitignore\n",
      "8 /home/jsanz/src/carto/product-updates/.gitignore\n",
      "2 /home/jsanz/src/carto/customer_success/projects/infogroup/.gitignore\n",
      "1 /home/jsanz/src/carto/customer_success/projects/cushman_wakefield/201611_office_locations/.gitignore\n",
      "1 /home/jsanz/src/carto/customer_success/outreach/tech_touch/.gitignore\n",
      "55 /home/jsanz/src/carto/solutions/.gitignore\n",
      "4 /home/jsanz/src/carto/solutions/onprem/ssh/.gitignore\n",
      "2 /home/jsanz/src/carto/solutions/doc/.gitignore\n",
      "12 /home/jsanz/src/carto/help/.gitignore\n",
      "1 /home/jsanz/src/carto/help/glossary_download/.gitignore\n",
      "2 /home/jsanz/src/carto/talks/.gitignore\n",
      "12 /home/jsanz/src/carto/talks/resources/reveal.js/reveal.js-3.5.0/.gitignore\n",
      "1 /home/jsanz/src/carto/support/src/followups/.gitignore\n",
      "89 /home/jsanz/src/carto/support/src/metrics/.gitignore\n",
      "2 /home/jsanz/src/carto/support/.gitignore\n",
      "92 /home/jsanz/src/carto/support/guides/import-sql-api-test/.gitignore\n",
      "9 /home/jsanz/src/carto/support/guides/mobile_test/src/.gitignore\n",
      "1 /home/jsanz/src/carto/support/guides/mobile_test/src/app/.gitignore\n",
      "39 /home/jsanz/src/carto/Reveal/.gitignore\n"
     ]
    }
   ],
   "source": [
    "# Finding and executing a command (count lines in gitignore files)\n",
    "find ~/src/carto -name \".gitignore\" -type f -exec wc -l {} \\;"
   ]
  },
  {
   "cell_type": "markdown",
   "metadata": {
    "slideshow": {
     "slide_type": "-"
    }
   },
   "source": [
    "### sed\n",
    "\n",
    "Great for working with text files:\n",
    "* replacing texts\n",
    "* finding patterns\n",
    "* working with line numbers"
   ]
  },
  {
   "cell_type": "code",
   "execution_count": 17,
   "metadata": {
    "slideshow": {
     "slide_type": "-"
    }
   },
   "outputs": [
    {
     "name": "stdout",
     "output_type": "stream",
     "text": [
      "# The following lines are desirable for IPv6 capable hosts\n",
      "#192.168.56.101 cartodb.lan\n",
      "# 5.32.4.75 cartodb.lan\n",
      "## vagrant-hostmanager-start id: aea15025-4dcf-452d-a47e-7e270a187de8\n",
      "## vagrant-hostmanager-end\n",
      "## vagrant-hostmanager-start id: 0a853cbe-6d72-4784-aea1-137a727a3f0a\n",
      "## vagrant-hostmanager\n",
      "#10.0.2.70 grafana.cartodb.net\n",
      "#10.0.2.82 kibana.cartodb.net\n"
     ]
    }
   ],
   "source": [
    "# Print comments in the hosts file\n",
    "sed -n -e '/\\#.*/p' /etc/hosts"
   ]
  },
  {
   "cell_type": "code",
   "execution_count": 18,
   "metadata": {
    "slideshow": {
     "slide_type": "-"
    }
   },
   "outputs": [
    {
     "name": "stdout",
     "output_type": "stream",
     "text": [
      "127.0.0.1\tlocalhost\n",
      "127.0.1.1\taldaia\n",
      "::1     ip6-localhost ip6-loopback\n",
      "fe00::0 ip6-localnet\n",
      "ff00::0 ip6-mcastprefix\n",
      "ff02::1 ip6-allnodes\n",
      "ff02::2 ip6-allrouters\n",
      "192.168.33.10 carto.lan\n",
      "10.0.3.79\tbcg.devnet.local\n",
      "10.0.3.140\tcarto.lan\n",
      "127.0.1.1 cartodb.localhost\n"
     ]
    }
   ],
   "source": [
    "# Remove comments and then remove blank lines\n",
    "sed -e '/\\#.*/d' -e '/^\\s*$/d' /etc/hosts"
   ]
  },
  {
   "cell_type": "markdown",
   "metadata": {},
   "source": [
    "### Silver Searcher\n",
    "\n",
    "The [Silver Searcher](https://github.com/ggreer/the_silver_searcher), quick find anything on your code"
   ]
  },
  {
   "cell_type": "code",
   "execution_count": 20,
   "metadata": {
    "ExecuteTime": {
     "end_time": "2019-05-07T22:02:43.005135Z",
     "start_time": "2019-05-07T22:02:42.833032Z"
    },
    "slideshow": {
     "slide_type": "-"
    }
   },
   "outputs": [
    {
     "name": "stdout",
     "output_type": "stream",
     "text": [
      "\u001b[1;32m/home/jsanz/src/carto/help/_app/_contents/working-with-data/development/tools.md\u001b[0m\u001b[K\n",
      "\u001b[1;33m78\u001b[0m\u001b[K:![CDB Manager]({{ site.baseurl }}/images/working-with-data/tools/\u001b[30;43mbetis\u001b[0m\u001b[K.png)\n",
      "\u001b[1;33m80\u001b[0m\u001b[K:### Why use \u001b[30;43mbetis\u001b[0m\u001b[K.carto.io?\n",
      "\u001b[1;33m82\u001b[0m\u001b[K:Normally, to use CDB Manager you would have to clone [its GitHub repo](https://github.com/CartoDB/cdb-manager), then run a Python server and open its interface via localhost. This site is a more convenient way to use the tool: [https://\u001b[30;43mbetis\u001b[0m\u001b[K.carto.io/](https://\u001b[30;43mbetis\u001b[0m\u001b[K.carto.io/) is just a static hosted version of CDB Manager.\n",
      "\u001b[1;33m84\u001b[0m\u001b[K:**Note:** We named this site `\u001b[30;43mbetis\u001b[0m\u001b[K` as a small tribute to CDB Manager's main developer, Dani Carrión. He's a huge fan of [Real \u001b[30;43mBetis\u001b[0m\u001b[K Balompié](https://en.wikipedia.org/wiki/Real_\u001b[30;43mBetis\u001b[0m\u001b[K), a Spanish football team from Seville.\n",
      "\u001b[1;33m88\u001b[0m\u001b[K:1. Visit [https://\u001b[30;43mbetis\u001b[0m\u001b[K.carto.io/](https://\u001b[30;43mbetis\u001b[0m\u001b[K.carto.io/)\n"
     ]
    }
   ],
   "source": [
    "ag betis ~/src/carto/help"
   ]
  },
  {
   "cell_type": "markdown",
   "metadata": {
    "slideshow": {
     "slide_type": "-"
    }
   },
   "source": [
    "## Accessing web services and APIs\n",
    "\n",
    "### curl\n",
    "\n",
    "https://curl.haxx.se/docs/manpage.html"
   ]
  },
  {
   "cell_type": "code",
   "execution_count": 1,
   "metadata": {
    "ExecuteTime": {
     "end_time": "2019-05-08T15:37:40.679093Z",
     "start_time": "2019-05-08T15:37:37.442615Z"
    }
   },
   "outputs": [
    {
     "name": "stdout",
     "output_type": "stream",
     "text": [
      "August 26th is the day in 1466 that a conspiracy against Piero di Cosimo de' Medici in Florence, led by Luca Pitti, is discovered."
     ]
    }
   ],
   "source": [
    "# accessing a simple URL\n",
    "curl http://numbersapi.com/8/26"
   ]
  },
  {
   "cell_type": "code",
   "execution_count": 2,
   "metadata": {
    "ExecuteTime": {
     "end_time": "2019-05-08T15:37:47.544867Z",
     "start_time": "2019-05-08T15:37:46.436311Z"
    }
   },
   "outputs": [
    {
     "name": "stdout",
     "output_type": "stream",
     "text": [
      "{\"rows\":[{\"user\":\"cartodb_publicuser_029cd392-0d6a-471d-83d1-f13ded9648d7\"}],\"time\":0.009,\"fields\":{\"user\":{\"type\":\"name\"}},\"total_rows\":1}"
     ]
    }
   ],
   "source": [
    "# making a POST request with a Content Type header\n",
    "curl --data '{\"q\":\"select user\"}' --header \"content-type:application/json\" https://jsanz.carto.com/api/v2/sql"
   ]
  },
  {
   "cell_type": "code",
   "execution_count": 3,
   "metadata": {
    "ExecuteTime": {
     "end_time": "2019-05-08T15:37:56.408353Z",
     "start_time": "2019-05-08T15:37:55.447513Z"
    }
   },
   "outputs": [
    {
     "name": "stdout",
     "output_type": "stream",
     "text": [
      "HTTP/1.1 200 OK\n",
      "Server: openresty\n",
      "Date: Wed, 08 May 2019 15:37:56 GMT\n",
      "Content-Type: application/json; charset=utf-8\n",
      "Connection: keep-alive\n",
      "Vary: Accept-Encoding\n",
      "Access-Control-Allow-Origin: *\n",
      "Access-Control-Allow-Headers: X-Requested-With, X-Prototype-Version, X-CSRF-Token, Authorization\n",
      "Carto-Rate-Limit-Limit: 81\n",
      "Carto-Rate-Limit-Remaining: 80\n",
      "Carto-Rate-Limit-Reset: 0\n",
      "vary: Authorization\n",
      "X-SQLAPI-Log: {\"request\":{\"sql\":{\"type\":\"query\",\"sql\":\"select user\"}}}\n",
      "Content-Disposition: inline; filename=cartodb-query.json; modification-date=\"Wed, 08 May 2019 15:37:56 GMT\";\n",
      "Cache-Control: no-cache,max-age=31536000,must-revalidate,public\n",
      "Last-Modified: Wed, 08 May 2019 15:37:56 GMT\n",
      "X-SQLAPI-Profiler: {\"authorization\":1,\"getConnectionParams\":2,\"queryExplain\":6,\"eventedQuery\":3,\"beforeSink\":1,\"total\":13}\n",
      "X-Varnish: 1592166\n",
      "Age: 0\n",
      "X-Cache: MISS\n",
      "\n"
     ]
    }
   ],
   "source": [
    "# making a HEAD request\n",
    "curl --head https://jsanz.carto.com/api/v2/sql?q=select+user"
   ]
  },
  {
   "cell_type": "code",
   "execution_count": 4,
   "metadata": {
    "ExecuteTime": {
     "end_time": "2019-05-08T15:37:58.107304Z",
     "start_time": "2019-05-08T15:37:57.035124Z"
    }
   },
   "outputs": [
    {
     "name": "stdout",
     "output_type": "stream",
     "text": [
      "{\n",
      "    \"rows\": [\n",
      "        {\n",
      "            \"user\": \"cartodb_publicuser_029cd392-0d6a-471d-83d1-f13ded9648d7\"\n",
      "        }\n",
      "    ],\n",
      "    \"time\": 0.001,\n",
      "    \"fields\": {\n",
      "        \"user\": {\n",
      "            \"type\": \"name\"\n",
      "        }\n",
      "    },\n",
      "    \"total_rows\": 1\n",
      "}\n"
     ]
    }
   ],
   "source": [
    "# formatting the result using python3\n",
    "curl -s --data '{\"q\":\"select user\"}' --header \"content-type:application/json\" \\\n",
    "https://jsanz.carto.com/api/v2/sql \\\n",
    "| python3 -m json.tool"
   ]
  },
  {
   "cell_type": "markdown",
   "metadata": {
    "slideshow": {
     "slide_type": "-"
    }
   },
   "source": [
    "## Handling data"
   ]
  },
  {
   "cell_type": "markdown",
   "metadata": {},
   "source": [
    "### jq\n",
    "\n",
    "[jq](https://stedolan.github.io/jq/) is a JSON processor, more advance that just pretty printing a result"
   ]
  },
  {
   "cell_type": "code",
   "execution_count": 5,
   "metadata": {
    "ExecuteTime": {
     "end_time": "2019-05-08T15:38:07.105412Z",
     "start_time": "2019-05-08T15:38:05.840843Z"
    }
   },
   "outputs": [
    {
     "name": "stdout",
     "output_type": "stream",
     "text": [
      "\u001b[1;39m{\n",
      "  \u001b[0m\u001b[34;1m\"rows\"\u001b[0m\u001b[1;39m: \u001b[0m\u001b[1;39m[\n",
      "    \u001b[1;39m{\n",
      "      \u001b[0m\u001b[34;1m\"cartodb_id\"\u001b[0m\u001b[1;39m: \u001b[0m\u001b[0;39m2338\u001b[0m\u001b[1;39m,\n",
      "      \u001b[0m\u001b[34;1m\"scalerank\"\u001b[0m\u001b[1;39m: \u001b[0m\u001b[0;39m7\u001b[0m\u001b[1;39m,\n",
      "      \u001b[0m\u001b[34;1m\"featurecla\"\u001b[0m\u001b[1;39m: \u001b[0m\u001b[0;32m\"Populated place\"\u001b[0m\u001b[1;39m,\n",
      "      \u001b[0m\u001b[34;1m\"name\"\u001b[0m\u001b[1;39m: \u001b[0m\u001b[0;32m\"Kwekwe\"\u001b[0m\u001b[1;39m,\n",
      "      \u001b[0m\u001b[34;1m\"worldcity\"\u001b[0m\u001b[1;39m: \u001b[0m\u001b[0;39m0\u001b[0m\u001b[1;39m\n",
      "    \u001b[1;39m}\u001b[0m\u001b[1;39m,\n",
      "    \u001b[1;39m{\n",
      "      \u001b[0m\u001b[34;1m\"cartodb_id\"\u001b[0m\u001b[1;39m: \u001b[0m\u001b[0;39m2339\u001b[0m\u001b[1;39m,\n",
      "      \u001b[0m\u001b[34;1m\"scalerank\"\u001b[0m\u001b[1;39m: \u001b[0m\u001b[0;39m7\u001b[0m\u001b[1;39m,\n",
      "      \u001b[0m\u001b[34;1m\"featurecla\"\u001b[0m\u001b[1;39m: \u001b[0m\u001b[0;32m\"Populated place\"\u001b[0m\u001b[1;39m,\n",
      "      \u001b[0m\u001b[34;1m\"name\"\u001b[0m\u001b[1;39m: \u001b[0m\u001b[0;32m\"Plumtree\"\u001b[0m\u001b[1;39m,\n",
      "      \u001b[0m\u001b[34;1m\"worldcity\"\u001b[0m\u001b[1;39m: \u001b[0m\u001b[0;39m0\u001b[0m\u001b[1;39m\n",
      "    \u001b[1;39m}\u001b[0m\u001b[1;39m,\n",
      "    \u001b[1;39m{\n",
      "      \u001b[0m\u001b[34;1m\"cartodb_id\"\u001b[0m\u001b[1;39m: \u001b[0m\u001b[0;39m2340\u001b[0m\u001b[1;39m,\n",
      "      \u001b[0m\u001b[34;1m\"scalerank\"\u001b[0m\u001b[1;39m: \u001b[0m\u001b[0;39m7\u001b[0m\u001b[1;39m,\n",
      "      \u001b[0m\u001b[34;1m\"featurecla\"\u001b[0m\u001b[1;39m: \u001b[0m\u001b[0;32m\"Populated place\"\u001b[0m\u001b[1;39m,\n",
      "      \u001b[0m\u001b[34;1m\"name\"\u001b[0m\u001b[1;39m: \u001b[0m\u001b[0;32m\"Beitbridge\"\u001b[0m\u001b[1;39m,\n",
      "      \u001b[0m\u001b[34;1m\"worldcity\"\u001b[0m\u001b[1;39m: \u001b[0m\u001b[0;39m0\u001b[0m\u001b[1;39m\n",
      "    \u001b[1;39m}\u001b[0m\u001b[1;39m,\n",
      "    \u001b[1;39m{\n",
      "      \u001b[0m\u001b[34;1m\"cartodb_id\"\u001b[0m\u001b[1;39m: \u001b[0m\u001b[0;39m2341\u001b[0m\u001b[1;39m,\n",
      "      \u001b[0m\u001b[34;1m\"scalerank\"\u001b[0m\u001b[1;39m: \u001b[0m\u001b[0;39m7\u001b[0m\u001b[1;39m,\n",
      "      \u001b[0m\u001b[34;1m\"featurecla\"\u001b[0m\u001b[1;39m: \u001b[0m\u001b[0;32m\"Populated place\"\u001b[0m\u001b[1;39m,\n",
      "      \u001b[0m\u001b[34;1m\"name\"\u001b[0m\u001b[1;39m: \u001b[0m\u001b[0;32m\"Gwanda\"\u001b[0m\u001b[1;39m,\n",
      "      \u001b[0m\u001b[34;1m\"worldcity\"\u001b[0m\u001b[1;39m: \u001b[0m\u001b[0;39m0\u001b[0m\u001b[1;39m\n",
      "    \u001b[1;39m}\u001b[0m\u001b[1;39m,\n",
      "    \u001b[1;39m{\n",
      "      \u001b[0m\u001b[34;1m\"cartodb_id\"\u001b[0m\u001b[1;39m: \u001b[0m\u001b[0;39m2342\u001b[0m\u001b[1;39m,\n",
      "      \u001b[0m\u001b[34;1m\"scalerank\"\u001b[0m\u001b[1;39m: \u001b[0m\u001b[0;39m7\u001b[0m\u001b[1;39m,\n",
      "      \u001b[0m\u001b[34;1m\"featurecla\"\u001b[0m\u001b[1;39m: \u001b[0m\u001b[0;32m\"Populated place\"\u001b[0m\u001b[1;39m,\n",
      "      \u001b[0m\u001b[34;1m\"name\"\u001b[0m\u001b[1;39m: \u001b[0m\u001b[0;32m\"Chiredzi\"\u001b[0m\u001b[1;39m,\n",
      "      \u001b[0m\u001b[34;1m\"worldcity\"\u001b[0m\u001b[1;39m: \u001b[0m\u001b[0;39m0\u001b[0m\u001b[1;39m\n",
      "    \u001b[1;39m}\u001b[0m\u001b[1;39m\n",
      "  \u001b[1;39m]\u001b[0m\u001b[1;39m,\n",
      "  \u001b[0m\u001b[34;1m\"time\"\u001b[0m\u001b[1;39m: \u001b[0m\u001b[0;39m0.031\u001b[0m\u001b[1;39m,\n",
      "  \u001b[0m\u001b[34;1m\"fields\"\u001b[0m\u001b[1;39m: \u001b[0m\u001b[1;39m{\n",
      "    \u001b[0m\u001b[34;1m\"cartodb_id\"\u001b[0m\u001b[1;39m: \u001b[0m\u001b[1;39m{\n",
      "      \u001b[0m\u001b[34;1m\"type\"\u001b[0m\u001b[1;39m: \u001b[0m\u001b[0;32m\"number\"\u001b[0m\u001b[1;39m\n",
      "    \u001b[1;39m}\u001b[0m\u001b[1;39m,\n",
      "    \u001b[0m\u001b[34;1m\"scalerank\"\u001b[0m\u001b[1;39m: \u001b[0m\u001b[1;39m{\n",
      "      \u001b[0m\u001b[34;1m\"type\"\u001b[0m\u001b[1;39m: \u001b[0m\u001b[0;32m\"number\"\u001b[0m\u001b[1;39m\n",
      "    \u001b[1;39m}\u001b[0m\u001b[1;39m,\n",
      "    \u001b[0m\u001b[34;1m\"featurecla\"\u001b[0m\u001b[1;39m: \u001b[0m\u001b[1;39m{\n",
      "      \u001b[0m\u001b[34;1m\"type\"\u001b[0m\u001b[1;39m: \u001b[0m\u001b[0;32m\"string\"\u001b[0m\u001b[1;39m\n",
      "    \u001b[1;39m}\u001b[0m\u001b[1;39m,\n",
      "    \u001b[0m\u001b[34;1m\"name\"\u001b[0m\u001b[1;39m: \u001b[0m\u001b[1;39m{\n",
      "      \u001b[0m\u001b[34;1m\"type\"\u001b[0m\u001b[1;39m: \u001b[0m\u001b[0;32m\"string\"\u001b[0m\u001b[1;39m\n",
      "    \u001b[1;39m}\u001b[0m\u001b[1;39m,\n",
      "    \u001b[0m\u001b[34;1m\"worldcity\"\u001b[0m\u001b[1;39m: \u001b[0m\u001b[1;39m{\n",
      "      \u001b[0m\u001b[34;1m\"type\"\u001b[0m\u001b[1;39m: \u001b[0m\u001b[0;32m\"number\"\u001b[0m\u001b[1;39m\n",
      "    \u001b[1;39m}\u001b[0m\u001b[1;39m\n",
      "  \u001b[1;39m}\u001b[0m\u001b[1;39m,\n",
      "  \u001b[0m\u001b[34;1m\"total_rows\"\u001b[0m\u001b[1;39m: \u001b[0m\u001b[0;39m5\u001b[0m\u001b[1;39m\n",
      "\u001b[1;39m}\u001b[0m\n"
     ]
    }
   ],
   "source": [
    "# just formatting the output\n",
    "curl -s --data '{\"q\":\"select cartodb_id, scalerank, featurecla, name, worldcity from populated_places limit 5\"}' --header \"content-type:application/json\" \\\n",
    "https://jsanz.carto.com/api/v2/sql > /tmp/data.json\n",
    "cat /tmp/data.json | jq ."
   ]
  },
  {
   "cell_type": "code",
   "execution_count": 6,
   "metadata": {
    "ExecuteTime": {
     "end_time": "2019-05-08T15:38:17.759461Z",
     "start_time": "2019-05-08T15:38:17.592253Z"
    }
   },
   "outputs": [
    {
     "name": "stdout",
     "output_type": "stream",
     "text": [
      "\u001b[0;32m\"Kwekwe\"\u001b[0m\n",
      "\u001b[0;32m\"Plumtree\"\u001b[0m\n",
      "\u001b[0;32m\"Beitbridge\"\u001b[0m\n",
      "\u001b[0;32m\"Gwanda\"\u001b[0m\n",
      "\u001b[0;32m\"Chiredzi\"\u001b[0m\n"
     ]
    }
   ],
   "source": [
    "# processing the results to show only the names\n",
    "cat /tmp/data.json | jq \".rows[].name\""
   ]
  },
  {
   "cell_type": "code",
   "execution_count": 7,
   "metadata": {
    "ExecuteTime": {
     "end_time": "2019-05-08T15:38:20.806267Z",
     "start_time": "2019-05-08T15:38:20.628128Z"
    }
   },
   "outputs": [
    {
     "name": "stdout",
     "output_type": "stream",
     "text": [
      "\u001b[1;39m{\n",
      "  \u001b[0m\u001b[34;1m\"id\"\u001b[0m\u001b[1;39m: \u001b[0m\u001b[0;39m2338\u001b[0m\u001b[1;39m,\n",
      "  \u001b[0m\u001b[34;1m\"scale\"\u001b[0m\u001b[1;39m: \u001b[0m\u001b[0;39m7\u001b[0m\u001b[1;39m,\n",
      "  \u001b[0m\u001b[34;1m\"name\"\u001b[0m\u001b[1;39m: \u001b[0m\u001b[0;32m\"Kwekwe\"\u001b[0m\u001b[1;39m\n",
      "\u001b[1;39m}\u001b[0m\n",
      "\u001b[1;39m{\n",
      "  \u001b[0m\u001b[34;1m\"id\"\u001b[0m\u001b[1;39m: \u001b[0m\u001b[0;39m2339\u001b[0m\u001b[1;39m,\n",
      "  \u001b[0m\u001b[34;1m\"scale\"\u001b[0m\u001b[1;39m: \u001b[0m\u001b[0;39m7\u001b[0m\u001b[1;39m,\n",
      "  \u001b[0m\u001b[34;1m\"name\"\u001b[0m\u001b[1;39m: \u001b[0m\u001b[0;32m\"Plumtree\"\u001b[0m\u001b[1;39m\n",
      "\u001b[1;39m}\u001b[0m\n",
      "\u001b[1;39m{\n",
      "  \u001b[0m\u001b[34;1m\"id\"\u001b[0m\u001b[1;39m: \u001b[0m\u001b[0;39m2340\u001b[0m\u001b[1;39m,\n",
      "  \u001b[0m\u001b[34;1m\"scale\"\u001b[0m\u001b[1;39m: \u001b[0m\u001b[0;39m7\u001b[0m\u001b[1;39m,\n",
      "  \u001b[0m\u001b[34;1m\"name\"\u001b[0m\u001b[1;39m: \u001b[0m\u001b[0;32m\"Beitbridge\"\u001b[0m\u001b[1;39m\n",
      "\u001b[1;39m}\u001b[0m\n",
      "\u001b[1;39m{\n",
      "  \u001b[0m\u001b[34;1m\"id\"\u001b[0m\u001b[1;39m: \u001b[0m\u001b[0;39m2341\u001b[0m\u001b[1;39m,\n",
      "  \u001b[0m\u001b[34;1m\"scale\"\u001b[0m\u001b[1;39m: \u001b[0m\u001b[0;39m7\u001b[0m\u001b[1;39m,\n",
      "  \u001b[0m\u001b[34;1m\"name\"\u001b[0m\u001b[1;39m: \u001b[0m\u001b[0;32m\"Gwanda\"\u001b[0m\u001b[1;39m\n",
      "\u001b[1;39m}\u001b[0m\n",
      "\u001b[1;39m{\n",
      "  \u001b[0m\u001b[34;1m\"id\"\u001b[0m\u001b[1;39m: \u001b[0m\u001b[0;39m2342\u001b[0m\u001b[1;39m,\n",
      "  \u001b[0m\u001b[34;1m\"scale\"\u001b[0m\u001b[1;39m: \u001b[0m\u001b[0;39m7\u001b[0m\u001b[1;39m,\n",
      "  \u001b[0m\u001b[34;1m\"name\"\u001b[0m\u001b[1;39m: \u001b[0m\u001b[0;32m\"Chiredzi\"\u001b[0m\u001b[1;39m\n",
      "\u001b[1;39m}\u001b[0m\n"
     ]
    }
   ],
   "source": [
    "# generate a new JSON with custom properties\n",
    "cat /tmp/data.json | jq \".rows[] | {id: .cartodb_id, scale: .scalerank, name: .name}\""
   ]
  },
  {
   "cell_type": "code",
   "execution_count": 1,
   "metadata": {
    "ExecuteTime": {
     "end_time": "2019-05-08T15:49:24.670900Z",
     "start_time": "2019-05-08T15:49:23.920893Z"
    }
   },
   "outputs": [
    {
     "name": "stdout",
     "output_type": "stream",
     "text": [
      "cartoframes_ver20170406_layers1_time0_baseid0_labels0_zoom0\n",
      "cartoframes_ver20170406_layers1_time0_baseid1_labels0_zoom0\n",
      "cartoframes_ver20170406_layers1_time0_baseid1_labels0_zoom1\n",
      "cartoframes_ver20170406_layers1_time0_baseid2_labels0_zoom0\n",
      "cartoframes_ver20170406_layers1_time0_baseid2_labels0_zoom1\n",
      "cartoframes_ver20170406_layers1_time0_baseid2_labels1_zoom0\n",
      "cartoframes_ver20170406_layers1_time0_baseid2_labels1_zoom1\n",
      "tpl_01b39da5_5c92_4d43_93b8_7814b8c4037b\n",
      "tpl_042460ae_a5a4_11e6_88d3_0e233c30368f\n",
      "tpl_05f7c3cb_7faf_4397_80af_82918208096b\n",
      "tpl_0a81d173_1b1b_48e2_be00_8d006cf0ca67\n",
      "tpl_0db766c2_ede6_11e6_ab43_0e8c56e2ffdb\n",
      "tpl_11094dc3_6fb0_4832_af95_c7579dc2b0a3\n",
      "tpl_16b381a8_2962_4bcf_b254_30cb41ad2ce5\n",
      "tpl_1e2400b8_4816_11e6_844e_0ef24382571b\n",
      "tpl_1f14d4ee_7bfc_4868_8488_08ac0cd8af00\n",
      "tpl_1f6707c5_cf46_44bc_962c_dd5ce8b5dae6\n",
      "tpl_200d55a5_7024_4730_820a_cb3321359f18\n",
      "tpl_22f00a1c_6a2f_481e_b96f_53668981282a\n",
      "tpl_23988d65_0bde_486f_a8cc_a9c0590b1c66\n",
      "tpl_23eb5e9e_361a_4364_8b0c_cb7122535668\n",
      "tpl_24ef5abe_1bbd_466a_90e2_80dcc32840a2\n",
      "tpl_2572c47a_4742_42b5_be82_6331ac99ccdb\n",
      "tpl_259adfdb_6351_4a68_8d28_aa600c87e16e\n",
      "tpl_27c25152_a5b7_4902_8c5d_da4e8f37f462\n",
      "tpl_2cebbeb1_1803_428a_8ab5_e52d05e439b4\n",
      "tpl_2e249b23_0f30_423d_9482_0b9aca24b827\n",
      "tpl_3001e94a_79b8_4962_9983_9fdb35cd7c0a\n",
      "tpl_33c61cb6_3ead_11e6_b17f_0ef7f98ade21\n",
      "tpl_35e257fa_725b_42e3_967e_a33560878363\n",
      "tpl_36480e18_9187_11e6_985e_0e3ebc282e83\n",
      "tpl_368f49ad_187e_4549_aae2_b00137ef45b5\n",
      "tpl_37bb97fc_ffcd_4435_9b84_d586bc5eb37c\n",
      "tpl_3881e817_d293_4b06_8a46_d18e52124c77\n",
      "tpl_3a42b14c_0681_4c3f_b84f_0137bffdf963\n",
      "tpl_3a9cf657_770b_4673_8503_a912e2925de6\n",
      "tpl_3daf43b2_4f31_11e6_9f71_0e233c30368f\n",
      "tpl_3f215f30_4c8d_4044_979d_98f5388cdd29\n",
      "tpl_40b87ede_8aff_11e6_b48f_0ef24382571b\n",
      "tpl_42a9b30e_1b1f_4ffe_aea6_733a88dca64d\n",
      "tpl_4932fac3_0a2b_4078_b869_da91f4e30899\n",
      "tpl_4b7a48d3_497f_45a1_97a9_142cae70d6c9\n",
      "tpl_4dc29630_782a_4d34_a98e_b297c1e3a2d3\n",
      "tpl_4ee1cd60_a500_11e6_aa67_0ef24382571b\n",
      "tpl_4f1aef2f_9579_4d62_b88a_fb72d672c54d\n",
      "tpl_523c1c24_99c8_11e6_9af9_0e3ebc282e83\n",
      "tpl_56996c5c_01e6_408a_a124_ac35a222dae8\n",
      "tpl_571559db_9df6_4080_84b2_3bc0f14dc0b5\n",
      "tpl_5c360574_3a5e_4d7c_b6b1_a41fd280a6d2\n",
      "tpl_5d19da77_eb77_4889_931a_00a3ed036f73\n",
      "tpl_5d66e4e8_6d0e_47d8_bec6_88b0df7205ed\n",
      "tpl_5e6f46fe_6e05_11e6_839d_0e05a8b3e3d7\n",
      "tpl_5fdcb7b2_980f_4ec0_9254_fa997b8423dd\n",
      "tpl_6c67b8ba_8aeb_11e6_b6c0_0e98b61680bf\n",
      "tpl_706e6e5d_4938_400e_b310_d03c523d334d\n",
      "tpl_7129b85b_eae9_44ea_a87e_4838022f9ebc\n",
      "tpl_72581d2e_9c76_4f6a_ad50_7fd70ae8b3e8\n",
      "tpl_756d7046_c608_47b7_8d86_f10cd98c7b80\n",
      "tpl_7848b68a_64a2_11e6_8e07_0e3ff518bd15\n",
      "tpl_7969e08d_1cab_4fb2_9f96_1b2999726408\n",
      "tpl_7c1af21a_6fc7_4d66_9758_bd044935943a\n",
      "tpl_7ee45c25_a144_4e36_b251_e622e9fba8cf\n",
      "tpl_7f53e15c_abc3_4091_9394_1ef8508dfa92\n",
      "tpl_80fdf458_6837_4a42_8fb8_2f181666893d\n",
      "tpl_812c7053_738d_4ef4_8c92_dc5e0b4f4c75\n",
      "tpl_81c44142_e6ed_4f44_9944_1cca95da9e72\n",
      "tpl_82430779_762a_492f_a077_d7e4c6adeece\n",
      "tpl_83a33e83_3679_4439_ab22_ab9c693001e0\n",
      "tpl_843b9eef_68dd_41ea_b657_37225c398ef5\n",
      "tpl_869a7758_d5c7_4c55_bd0b_f3bc27e4afd7\n",
      "tpl_882c410c_7bdf_4e13_84a2_a1277361ce44\n",
      "tpl_885e59f8_4877_48b7_909f_d14940601882\n",
      "tpl_88dfbe98_37b1_4eec_bb27_89fdc1773f15\n",
      "tpl_8bf6d4ca_3aaa_4510_a040_0c7ce39654cf\n",
      "tpl_8c7702b2_2127_4b2c_981c_541666f14f38\n",
      "tpl_8d41b8a2_ef0d_40b5_9d5b_b26ccd97ca1d\n",
      "tpl_8f40bc73_7614_4853_977e_86b64affe395\n",
      "tpl_96a1308c_6e05_11e6_a05c_0ecd1babdde5\n",
      "tpl_98b0ba84_e957_447d_8daf_c775bdea671b\n",
      "tpl_99caaec1_4d89_4803_b97e_b6abad55b870\n",
      "tpl_a1d30c3b_2083_4ee9_99b8_25a889477baa\n",
      "tpl_a387fe30_eade_4979_8a2c_c1a0173d2081\n",
      "tpl_a49a31fe_8530_4a64_84f8_63f749e8db7c\n",
      "tpl_a5ecf9dc_8d7b_45fa_a4c8_48d13a3984d5\n",
      "tpl_a79e22cc_7900_4788_af16_f328c5fe12b9\n",
      "tpl_ab6117a2_cb11_4e36_ac69_7b2052c9199f\n",
      "tpl_ab81d063_ff35_4bb3_a350_34976f6a3fe2\n",
      "tpl_adc3002b_02df_4455_a696_c4fcca1b00a8\n",
      "tpl_b279fde5_72e8_4a65_95c7_5acda2d78c09\n",
      "tpl_b48454a5_23a0_4e27_b92a_8c9175354d86\n",
      "tpl_b5b05ec2_54b7_4655_a11f_c09638d7f11a\n",
      "tpl_b5beef64_7b38_11e6_bb05_0e3ebc282e83\n",
      "tpl_bb4ca4ae_4a91_428c_ba27_26c54794a146\n",
      "tpl_bc7d696c_196a_42e4_af3b_5513cf76dea4\n",
      "tpl_bc9bac0c_5776_458a_b8b3_20a4728a8956\n",
      "tpl_c2596a7f_ebd5_4dfa_b983_447761910b87\n",
      "tpl_c5b6b93e_34b6_4e56_ac30_e8f04398166d\n",
      "tpl_c93b89ea_ed0d_455c_8844_516fb34d058f\n",
      "tpl_c97dbd43_008b_4263_9728_39d951238282\n",
      "tpl_c9b8c1d2_2141_4989_bb19_1e33569b37b8\n",
      "tpl_cc922c4d_c50d_4e14_b718_1292c8564a2d\n",
      "tpl_d2b51191_29d2_4dcc_80fa_0af733debf28\n",
      "tpl_d66c9ed4_e155_4fa2_a108_540e5124a4f6\n",
      "tpl_d7399e4c_1812_4ca7_bd92_fdeff522e32e\n",
      "tpl_d8ef2791_fc44_441b_8563_d729a7ce8750\n",
      "tpl_dc5e117c_ab49_4bf2_980c_618b87078466\n",
      "tpl_dc7286d2_ab6b_4728_9f1a_d20ec003d5ba\n",
      "tpl_ded15507_3792_4a0b_abf1_53f7f7abf2d0\n",
      "tpl_dff0a7aa_7eb8_4046_98b1_e8151b2f2812\n",
      "tpl_e17b45e0_e3c9_4fbf_a6a6_438f9ed30fb5\n",
      "tpl_e30be47d_93f8_422a_aad3_c00fb7ea9099\n",
      "tpl_e52efb3e_4c50_4157_bfab_7233755bb5f0\n",
      "tpl_e5433c5e_5ff5_4c10_9014_d0770fcfc510\n",
      "tpl_e7109015_f9f7_4db0_ae03_c0aeb52fe4d9\n",
      "tpl_ea7806de_9ab5_4859_934c_8ec04c881607\n",
      "tpl_ea813608_9186_11e6_a120_0ef24382571b\n",
      "tpl_ebbfc82f_ca42_4b5a_81e0_de17fdbbca69\n",
      "tpl_ed2d9725_273d_46be_a8ad_5f97057cbe7f\n",
      "tpl_edb3fc98_064b_4cd9_8200_6194de1b1f03\n",
      "tpl_efea0ab6_6c59_439c_bbd9_2f04ce828d7a\n",
      "tpl_f18c02f5_ef2d_4fb0_afc2_109d398af2e5\n",
      "tpl_f3183bd0_9790_11e6_aa90_0e98b61680bf\n",
      "tpl_f5090066_863e_45bb_bd5c_d1c8e6af4729\n",
      "tpl_f6482f95_124d_4a2d_b96b_90b699c6e3f6\n",
      "tpl_f81957ff_be8a_457d_b29e_538775df632c\n",
      "tpl_f9eec8cd_5e2f_4eb6_8399_96df5177994b\n",
      "tpl_fbe02ccc_4e71_11e6_b167_0ee66e2c9693\n",
      "tpl_fc626e14_80d8_4705_aa4a_0165cbe55138\n",
      "tpl_fe24d55c_6192_48c0_bc62_e7aac5c1a30a\n",
      "tpl_fe40206c_f42d_4510_95d1_74233cdc3594\n",
      "tpl_fef21ea6_7a19_46ee_b854_1f8919b0c08d\n"
     ]
    }
   ],
   "source": [
    "# combining with other tools\n",
    "curl -sk -G \"${CARTO_API_URL}api/v1/map/named/?api_key=${CARTO_API_KEY}\" | jq \".template_ids[]\" | tr -d '\"' | sort"
   ]
  },
  {
   "cell_type": "markdown",
   "metadata": {},
   "source": [
    "### json2csv\n",
    "\n",
    "https://www.npmjs.com/package/json2csv"
   ]
  },
  {
   "cell_type": "code",
   "execution_count": 8,
   "metadata": {
    "ExecuteTime": {
     "end_time": "2019-05-08T15:38:41.147183Z",
     "start_time": "2019-05-08T15:38:40.662323Z"
    }
   },
   "outputs": [
    {
     "name": "stdout",
     "output_type": "stream",
     "text": [
      "\"cartodb_id\",\"scalerank\",\"featurecla\",\"name\",\"worldcity\"\n",
      "2338,7,\"Populated place\",\"Kwekwe\",0\n",
      "2339,7,\"Populated place\",\"Plumtree\",0\n",
      "2340,7,\"Populated place\",\"Beitbridge\",0\n",
      "2341,7,\"Populated place\",\"Gwanda\",0\n",
      "2342,7,\"Populated place\",\"Chiredzi\",0"
     ]
    }
   ],
   "source": [
    "cat /tmp/data.json | jq \".rows[]\" | json2csv > /tmp/data.csv\n",
    "cat /tmp/data.csv"
   ]
  },
  {
   "cell_type": "markdown",
   "metadata": {},
   "source": [
    "### csvkit\n",
    "https://csvkit.readthedocs.io/en/latest/\n",
    "\n",
    "* `csvclean`: fix common CSV problems\n",
    "* `csvcut`: remove columns\n",
    "* `csvgrep`: filtering data\n",
    "* `csvjoin`: join two CSVs by a given column\n",
    "* `csvjson`: generate json or GeoJSON\n",
    "* `csvlook`: pretty print CSV\n",
    "* `csvstat`: basic statistics"
   ]
  },
  {
   "cell_type": "code",
   "execution_count": 27,
   "metadata": {
    "ExecuteTime": {
     "end_time": "2019-05-07T22:16:58.583758Z",
     "start_time": "2019-05-07T22:16:58.194160Z"
    }
   },
   "outputs": [
    {
     "name": "stdout",
     "output_type": "stream",
     "text": [
      "| cartodb_id | scalerank | featurecla      | name       | worldcity |\n",
      "| ---------- | --------- | --------------- | ---------- | --------- |\n",
      "|      2.338 |         7 | Populated place | Kwekwe     |     False |\n",
      "|      2.339 |         7 | Populated place | Plumtree   |     False |\n",
      "|      2.340 |         7 | Populated place | Beitbridge |     False |\n",
      "|      2.341 |         7 | Populated place | Gwanda     |     False |\n",
      "|      2.342 |         7 | Populated place | Chiredzi   |     False |\n"
     ]
    }
   ],
   "source": [
    "# convert to CSV and pretty print the table\n",
    "cat /tmp/data.csv | csvlook"
   ]
  },
  {
   "cell_type": "code",
   "execution_count": 28,
   "metadata": {
    "ExecuteTime": {
     "end_time": "2019-05-07T22:17:05.798135Z",
     "start_time": "2019-05-07T22:17:05.446120Z"
    }
   },
   "outputs": [
    {
     "name": "stdout",
     "output_type": "stream",
     "text": [
      "| cartodb_id | scalerank | featurecla      | name     | worldcity |\n",
      "| ---------- | --------- | --------------- | -------- | --------- |\n",
      "|      2.339 |         7 | Populated place | Plumtree |     False |\n"
     ]
    }
   ],
   "source": [
    "cat /tmp/data.csv | csvgrep -c 4 -m tree | csvlook"
   ]
  },
  {
   "cell_type": "code",
   "execution_count": 30,
   "metadata": {
    "ExecuteTime": {
     "end_time": "2019-05-07T22:17:30.252612Z",
     "start_time": "2019-05-07T22:17:29.910964Z"
    }
   },
   "outputs": [
    {
     "name": "stdout",
     "output_type": "stream",
     "text": [
      "  1. \"cartodb_id\"\n",
      "\n",
      "\tType of data:          Number\n",
      "\tContains null values:  False\n",
      "\tUnique values:         5\n",
      "\tSmallest value:        2.338\n",
      "\tLargest value:         2.342\n",
      "\tSum:                   11.700\n",
      "\tMean:                  2.340\n",
      "\tMedian:                2.340\n",
      "\tStDev:                 1,581\n",
      "\tMost common values:    2.338 (1x)\n",
      "\t                       2.339 (1x)\n",
      "\t                       2.340 (1x)\n",
      "\t                       2.341 (1x)\n",
      "\t                       2.342 (1x)\n",
      "\n",
      "  2. \"scalerank\"\n",
      "\n",
      "\tType of data:          Number\n",
      "\tContains null values:  False\n",
      "\tUnique values:         1\n",
      "\tSmallest value:        7\n",
      "\tLargest value:         7\n",
      "\tSum:                   35\n",
      "\tMean:                  7\n",
      "\tMedian:                7\n",
      "\tStDev:                 0\n",
      "\tMost common values:    7 (5x)\n",
      "\n",
      "  3. \"featurecla\"\n",
      "\n",
      "\tType of data:          Text\n",
      "\tContains null values:  False\n",
      "\tUnique values:         1\n",
      "\tLongest value:         15 characters\n",
      "\tMost common values:    Populated place (5x)\n",
      "\n",
      "  4. \"name\"\n",
      "\n",
      "\tType of data:          Text\n",
      "\tContains null values:  False\n",
      "\tUnique values:         5\n",
      "\tLongest value:         10 characters\n",
      "\tMost common values:    Kwekwe (1x)\n",
      "\t                       Plumtree (1x)\n",
      "\t                       Beitbridge (1x)\n",
      "\t                       Gwanda (1x)\n",
      "\t                       Chiredzi (1x)\n",
      "\n",
      "  5. \"worldcity\"\n",
      "\n",
      "\tType of data:          Boolean\n",
      "\tContains null values:  False\n",
      "\tUnique values:         1\n",
      "\tMost common values:    False (5x)\n",
      "\n",
      "Row count: 5\n"
     ]
    }
   ],
   "source": [
    "cat /tmp/data.csv | csvstat"
   ]
  },
  {
   "cell_type": "markdown",
   "metadata": {},
   "source": [
    "## OGR\n",
    "\n",
    "OGR is the vector brother of the well-known GDAL library to process raster geospatial data.\n",
    "\n",
    "There are two interesting commands to learn to inspect and process geospatial datasets:\n",
    "\n",
    "* [`ogrinfo`](https://www.gdal.org/ogrinfo.html)\n",
    "* [`ogr2ogr`](https://www.gdal.org/ogr2ogr.html)"
   ]
  },
  {
   "cell_type": "code",
   "execution_count": 3,
   "metadata": {
    "ExecuteTime": {
     "end_time": "2019-05-08T15:54:33.361333Z",
     "start_time": "2019-05-08T15:54:33.075748Z"
    }
   },
   "outputs": [
    {
     "name": "stdout",
     "output_type": "stream",
     "text": [
      "INFO: Open of `/home/jsanz/media/carto/flights.gpkg'\n",
      "      using driver `GPKG' successful.\n",
      "\n",
      "Layer name: cartodb-query\n",
      "Geometry: Point\n",
      "Feature Count: 395633\n",
      "Extent: (-158.517000, 17.962500) - (-65.685200, 62.540400)\n",
      "Layer SRS WKT:\n",
      "GEOGCS[\"WGS 84\",\n",
      "    DATUM[\"WGS_1984\",\n",
      "        SPHEROID[\"WGS 84\",6378137,298.257223563,\n",
      "            AUTHORITY[\"EPSG\",\"7030\"]],\n",
      "        AUTHORITY[\"EPSG\",\"6326\"]],\n",
      "    PRIMEM[\"Greenwich\",0,\n",
      "        AUTHORITY[\"EPSG\",\"8901\"]],\n",
      "    UNIT[\"degree\",0.0174532925199433,\n",
      "        AUTHORITY[\"EPSG\",\"9122\"]],\n",
      "    AUTHORITY[\"EPSG\",\"4326\"]]\n",
      "FID Column = cartodb_id\n",
      "Geometry Column = geom\n",
      "mfr_mdl_code: Integer (0.0)\n",
      "fid: Integer (0.0)\n",
      "adshex: String (0.0)\n",
      "latitude: Real (0.0)\n",
      "longitude: Real (0.0)\n",
      "altitude: Integer (0.0)\n",
      "speed: Integer (0.0)\n",
      "track: Integer (0.0)\n",
      "squawk: Integer (0.0)\n",
      "timestamp: DateTime (0.0)\n",
      "year_mfr: Integer (0.0)\n",
      "type_aircraft: Integer (0.0)\n",
      "agency: String (0.0)\n",
      "flight_id: String (0.0)\n",
      "mfr: String (0.0)\n",
      "model: String (0.0)\n",
      "n_number: String (0.0)\n",
      "name: String (0.0)\n",
      "other_names1: String (0.0)\n",
      "other_names2: String (0.0)\n",
      "serial_number: String (0.0)\n",
      "type: String (0.0)\n"
     ]
    }
   ],
   "source": [
    "# ogrinfo presents an overview of a layer from a data source: type, extent, SRS, schema, etc\n",
    "ogrinfo -summary ~/media/carto/flights.gpkg cartodb-query"
   ]
  },
  {
   "cell_type": "code",
   "execution_count": 7,
   "metadata": {
    "ExecuteTime": {
     "end_time": "2019-05-08T16:01:58.169257Z",
     "start_time": "2019-05-08T16:01:57.594395Z"
    }
   },
   "outputs": [
    {
     "name": "stdout",
     "output_type": "stream",
     "text": [
      "Generated\n",
      "INFO: Open of `/tmp/flights_first.gpkg'\n",
      "      using driver `GPKG' successful.\n",
      "\n",
      "Layer name: flights_first\n",
      "Geometry: Point\n",
      "Feature Count: 1\n",
      "Extent: (-122.137000, 37.709900) - (-122.137000, 37.709900)\n"
     ]
    }
   ],
   "source": [
    "# ogr2ogr processes and converts a datasource between different formats\n",
    "\n",
    "# on this example we generate a new Geopackage only with one geometry from the original dataset\n",
    "# this is useful to upload to carto only a dataset definition (after importing you delete that single row)\n",
    "ogr2ogr -f GPKG -overwrite -limit 1 -nln flights_first /tmp/flights_first.gpkg ~/media/carto/flights.gpkg\n",
    "echo \"Generated\"\n",
    "ogrinfo -summary /tmp/flights_first.gpkg flights_first | head -n7"
   ]
  },
  {
   "cell_type": "markdown",
   "metadata": {
    "slideshow": {
     "slide_type": "-"
    }
   },
   "source": [
    "## Miscellany\n",
    "\n",
    "### autojump"
   ]
  },
  {
   "cell_type": "code",
   "execution_count": 20,
   "metadata": {
    "slideshow": {
     "slide_type": "-"
    }
   },
   "outputs": [
    {
     "name": "stdout",
     "output_type": "stream",
     "text": [
      "/home/jsanz/src/sdks/carto-python\n"
     ]
    }
   ],
   "source": [
    "# Jump around your file system\n",
    "# https://github.com/wting/autojump\n",
    "autojump carto-python"
   ]
  },
  {
   "cell_type": "markdown",
   "metadata": {
    "ExecuteTime": {
     "end_time": "2019-05-08T16:39:27.018229Z",
     "start_time": "2019-05-08T16:39:20.235509Z"
    }
   },
   "source": [
    "### htop \n",
    "\n",
    "`htop`is a convenient way to inspect your running process, filter, kill, etc\n",
    "\n",
    "![](http://i.imgur.com/oPbCpt6.png)"
   ]
  },
  {
   "cell_type": "markdown",
   "metadata": {},
   "source": [
    "### pigz\n",
    "\n",
    "`pigz` is a parallized version of gzip, it uses all your cores to compress/decompress your files\n",
    "\n",
    "![](http://i.imgur.com/iakglWV.png)\n",
    "\n",
    "### translate"
   ]
  },
  {
   "cell_type": "code",
   "execution_count": 8,
   "metadata": {
    "ExecuteTime": {
     "end_time": "2019-05-08T16:11:21.463710Z",
     "start_time": "2019-05-08T16:11:19.373666Z"
    },
    "slideshow": {
     "slide_type": "-"
    }
   },
   "outputs": [
    {
     "name": "stdout",
     "output_type": "stream",
     "text": [
      "\u001b[1m\u001b[96mWhen he woke up, the dinosaur was still there\u001b[0m\u001b[22m\n",
      "\u001b[1m\u001b[96m当他醒来时，恐龙还在那里\u001b[0m\u001b[22m\n",
      "\u001b[1m\u001b[96m彼が目を覚ましたとき、恐竜はまだそこにいました\u001b[0m\u001b[22m\n"
     ]
    }
   ],
   "source": [
    "# Translator using several providers\n",
    "# https://github.com/soimort/translate-shell\n",
    "trans -brief es:en 'cuando se despertó, el dinosaurio aún estaba allí'\n",
    "trans -brief es:zh+ja 'cuando se despertó, el dinosaurio aún estaba allí'"
   ]
  },
  {
   "cell_type": "markdown",
   "metadata": {},
   "source": [
    "### pygmentize"
   ]
  },
  {
   "cell_type": "code",
   "execution_count": 22,
   "metadata": {
    "slideshow": {
     "slide_type": "-"
    }
   },
   "outputs": [
    {
     "name": "stdout",
     "output_type": "stream",
     "text": [
      "\u001b[38;5;124m\"\"\"\u001b[39m\n",
      "\u001b[38;5;124mModule for defining response objects\u001b[39m\n",
      "\n",
      "\u001b[38;5;124m.. module:: carto.fields\u001b[39m\n",
      "\u001b[38;5;124m   :platform: Unix, Windows\u001b[39m\n",
      "\u001b[38;5;124m   :synopsis: Module for defining response objects\u001b[39m\n",
      "\n",
      "\u001b[38;5;124m.. moduleauthor:: Daniel Carrion <daniel@carto.com>\u001b[39m\n",
      "\u001b[38;5;124m.. moduleauthor:: Alberto Romeu <alrocar@carto.com>\u001b[39m\n",
      "\n",
      "\n",
      "\u001b[38;5;124m\"\"\"\u001b[39m\n",
      "\n",
      "\u001b[38;5;28;01mfrom\u001b[39;00m \u001b[38;5;21;01mpyrestcli.fields\u001b[39;00m \u001b[38;5;28;01mimport\u001b[39;00m ResourceField\n",
      "\n",
      "\n",
      "\u001b[38;5;28;01mclass\u001b[39;00m \u001b[38;5;21;01mVisualizationField\u001b[39;00m(ResourceField):\n",
      "    \u001b[38;5;124m\"\"\"\u001b[39m\n",
      "\u001b[38;5;124m    :class:`carto.visualizations.Visualization`\u001b[39m\n",
      "\u001b[38;5;124m    \"\"\"\u001b[39m\n",
      "    value_class \u001b[38;5;241m=\u001b[39m \u001b[38;5;124m\"\u001b[39m\u001b[38;5;124mcarto.visualizations.Visualization\u001b[39m\u001b[38;5;124m\"\u001b[39m\n",
      "\n",
      "\n",
      "\u001b[38;5;28;01mclass\u001b[39;00m \u001b[38;5;21;01mTableField\u001b[39;00m(ResourceField):\n",
      "    \u001b[38;5;124m\"\"\"\u001b[39m\n",
      "\u001b[38;5;124m    :class:`carto.tables.Table`\u001b[39m\n",
      "\u001b[38;5;124m    \"\"\"\u001b[39m\n",
      "    value_class \u001b[38;5;241m=\u001b[39m \u001b[38;5;124m\"\u001b[39m\u001b[38;5;124mcarto.tables.Table\u001b[39m\u001b[38;5;124m\"\u001b[39m\n",
      "\n",
      "\n",
      "\u001b[38;5;28;01mclass\u001b[39;00m \u001b[38;5;21;01mUserField\u001b[39;00m(ResourceField):\n",
      "    \u001b[38;5;124m\"\"\"\u001b[39m\n",
      "\u001b[38;5;124m    :class:`carto.users.User`\u001b[39m\n",
      "\u001b[38;5;124m    \"\"\"\u001b[39m\n",
      "    value_class \u001b[38;5;241m=\u001b[39m \u001b[38;5;124m\"\u001b[39m\u001b[38;5;124mcarto.users.User\u001b[39m\u001b[38;5;124m\"\u001b[39m\n",
      "\n",
      "\n",
      "\u001b[38;5;28;01mclass\u001b[39;00m \u001b[38;5;21;01mEntityField\u001b[39;00m(ResourceField):\n",
      "    \u001b[38;5;124m\"\"\"\u001b[39m\n",
      "\u001b[38;5;124m    :class:`carto.permissions.Entity`\u001b[39m\n",
      "\u001b[38;5;124m    \"\"\"\u001b[39m\n",
      "    value_class \u001b[38;5;241m=\u001b[39m \u001b[38;5;124m\"\u001b[39m\u001b[38;5;124mcarto.permissions.Entity\u001b[39m\u001b[38;5;124m\"\u001b[39m\n",
      "\n",
      "\n",
      "\u001b[38;5;28;01mclass\u001b[39;00m \u001b[38;5;21;01mPermissionField\u001b[39;00m(ResourceField):\n",
      "    \u001b[38;5;124m\"\"\"\u001b[39m\n",
      "\u001b[38;5;124m    :class:`carto.permissions.Permission`\u001b[39m\n",
      "\u001b[38;5;124m    \"\"\"\u001b[39m\n",
      "    value_class \u001b[38;5;241m=\u001b[39m \u001b[38;5;124m\"\u001b[39m\u001b[38;5;124mcarto.permissions.Permission\u001b[39m\u001b[38;5;124m\"\u001b[39m\n"
     ]
    }
   ],
   "source": [
    "# Pretty print source code\n",
    "# http://pygments.org/docs/cmdline/\n",
    "pygmentize -g /home/jsanz/src/sdks/carto-python/carto/fields.py"
   ]
  },
  {
   "cell_type": "markdown",
   "metadata": {
    "slideshow": {
     "slide_type": "-"
    }
   },
   "source": [
    "## Resources\n",
    "\n",
    "* [The complete introduction to The Command Line](http://linuxcommand.org/tlcl.php)\n",
    "* [Solutions summit 2017 CLI talk](http://cartodb.github.io/talks/1704-cli/)\n",
    "* [useful commands to get info about your system](https://www.tecmint.com/commands-to-collect-system-and-hardware-information-in-linux/)\n",
    "* [for loops](https://www.cyberciti.biz/faq/bash-for-loop/)\n",
    "* [if statements](https://ryanstutorials.net/bash-scripting-tutorial/bash-if-statements.php#introduction)\n",
    "* [about redirections](https://catonmat.net/bash-one-liners-explained-part-three)\n",
    "* [35 find examples](http://www.tecmint.com/35-practical-examples-of-linux-find-command/)\n",
    "* `sed` examples: [1](https://www.ibm.com/developerworks/library/l-sed1/), [2](https://www.ibm.com/developerworks/library/l-sed2/)\n",
    "  and [3](https://www.ibm.com/developerworks/library/l-sed3/)"
   ]
  },
  {
   "cell_type": "code",
   "execution_count": null,
   "metadata": {},
   "outputs": [],
   "source": []
  }
 ],
 "metadata": {
  "kernelspec": {
   "display_name": "Bash",
   "language": "bash",
   "name": "bash"
  },
  "language_info": {
   "codemirror_mode": "shell",
   "file_extension": ".sh",
   "mimetype": "text/x-sh",
   "name": "bash"
  }
 },
 "nbformat": 4,
 "nbformat_minor": 2
}
