{
 "cells": [
  {
   "cell_type": "markdown",
   "metadata": {
    "slideshow": {
     "slide_type": "-"
    }
   },
   "source": [
    "# CLI workshop\n",
    "\n",
    "CARTO Solutions Technical Workshops\n",
    "\n",
    "Jorge Sanz · May 2019\n",
    "\n",
    "---\n",
    "\n",
    "> This workshop is intended to show why using a command line interface can be useful on many of our everyday tasks, and more convenient and effective than other graphical interfaces.\n",
    "\n",
    "---\n",
    "\n",
    "## Contents\n",
    "\n",
    "* Intro\n",
    "* Some basic commands\n",
    "* Viewing and finding things\n",
    "* Accessing APIs and web services\n",
    "* Handling local data\n",
    "* Miscellany"
   ]
  },
  {
   "cell_type": "markdown",
   "metadata": {
    "slideshow": {
     "slide_type": "-"
    }
   },
   "source": [
    "## CLI versus GUI\n",
    "\n",
    "| _ | CLI | GUI |\n",
    "|---| --- | --- |\n",
    "| Eease | ❌  | ✅ |\n",
    "| Functionality | ✅ | ❌  | \n",
    "| Speed |  ✅ |  ❌ |\n",
    "| Multitasking | ❌  | ✅ |\n",
    "| Automation | ✅ | ❌  | \n"
   ]
  },
  {
   "cell_type": "markdown",
   "metadata": {
    "slideshow": {
     "slide_type": "-"
    }
   },
   "source": [
    "## When to use the command line\n",
    "\n",
    "* Repeated tasks\n",
    "* Greater control over functionality\n",
    "* Dealing with lots of information\n",
    "* Focus in the process\n",
    "* Accessing remote servers"
   ]
  },
  {
   "cell_type": "markdown",
   "metadata": {
    "slideshow": {
     "slide_type": "-"
    }
   },
   "source": [
    "## Basic commands\n",
    "\n",
    "* Remember you can use the arrow keys to browse your history.\n",
    "* The `HISTSIZE` environment variable defines the size of your history.\n",
    "* `Ctrl + r` allows you to search on your history\n",
    "* `!!` executes the previous command\n",
    "* `CTL + L` clean the screen (same as executing `clear` command)\n",
    "* `CTL + A`, `CTL + E`: go to the begin/end of the line\n",
    "* `CTL + S` and `CTL+Q`: stop and resume output"
   ]
  },
  {
   "cell_type": "code",
   "execution_count": 25,
   "metadata": {},
   "outputs": [
    {
     "name": "stdout",
     "output_type": "stream",
     "text": [
      "Linux aldaia 4.15.0-47-generic #50-Ubuntu SMP Wed Mar 13 10:44:52 UTC 2019 x86_64 x86_64 x86_64 GNU/Linux\n"
     ]
    }
   ],
   "source": [
    "# Show system info\n",
    "uname -a"
   ]
  },
  {
   "cell_type": "code",
   "execution_count": 1,
   "metadata": {
    "slideshow": {
     "slide_type": "-"
    }
   },
   "outputs": [
    {
     "name": "stdout",
     "output_type": "stream",
     "text": [
      "jsanz\n"
     ]
    }
   ],
   "source": [
    "# Show the current user\n",
    "whoami"
   ]
  },
  {
   "cell_type": "code",
   "execution_count": 2,
   "metadata": {
    "slideshow": {
     "slide_type": "-"
    }
   },
   "outputs": [
    {
     "name": "stdout",
     "output_type": "stream",
     "text": [
      "/home/jsanz/src/carto/talks/1905-cli\n"
     ]
    }
   ],
   "source": [
    "# Show the current directory\n",
    "pwd"
   ]
  },
  {
   "cell_type": "code",
   "execution_count": 3,
   "metadata": {
    "slideshow": {
     "slide_type": "-"
    }
   },
   "outputs": [
    {
     "name": "stdout",
     "output_type": "stream",
     "text": [
      "2019-04-24 15:34:03\n"
     ]
    }
   ],
   "source": [
    "# Show the current date\n",
    "date +%F\\ %T "
   ]
  },
  {
   "cell_type": "code",
   "execution_count": 4,
   "metadata": {
    "slideshow": {
     "slide_type": "-"
    }
   },
   "outputs": [
    {
     "name": "stdout",
     "output_type": "stream",
     "text": [
      "1000\n"
     ]
    }
   ],
   "source": [
    "# Print a variable\n",
    "echo $HISTSIZE"
   ]
  },
  {
   "cell_type": "code",
   "execution_count": 33,
   "metadata": {},
   "outputs": [
    {
     "name": "stdout",
     "output_type": "stream",
     "text": [
      "Filesystem                   Size  Used Avail Use% Mounted on\n",
      "udev                         7,8G     0  7,8G   0% /dev\n",
      "tmpfs                        1,6G  1,8M  1,6G   1% /run\n",
      "/dev/mapper/ubuntu--vg-root  424G  371G   33G  93% /\n",
      "tmpfs                        7,8G  156M  7,7G   2% /dev/shm\n",
      "tmpfs                        5,0M  4,0K  5,0M   1% /run/lock\n",
      "tmpfs                        7,8G     0  7,8G   0% /sys/fs/cgroup\n",
      "/dev/sda1                    472M  184M  265M  41% /boot\n",
      "tmpfs                        1,6G   52K  1,6G   1% /run/user/1000\n",
      "/dev/fuse                    250G  1,0K  250G   1% /run/user/1000/keybase/kbfs\n"
     ]
    }
   ],
   "source": [
    "# Print disk status\n",
    "df -h | grep -v loop"
   ]
  },
  {
   "cell_type": "markdown",
   "metadata": {
    "slideshow": {
     "slide_type": "-"
    }
   },
   "source": [
    "## Scripting"
   ]
  },
  {
   "cell_type": "code",
   "execution_count": 5,
   "metadata": {
    "slideshow": {
     "slide_type": "-"
    }
   },
   "outputs": [
    {
     "name": "stdout",
     "output_type": "stream",
     "text": [
      "Welcome 1 times\n",
      "Welcome 2 times\n",
      "Welcome 3 times\n",
      "Welcome 4 times\n",
      "Welcome 5 times\n"
     ]
    }
   ],
   "source": [
    "# You can do for loops\n",
    "for i in {1..5}\n",
    "do\n",
    "   echo \"Welcome $i times\"\n",
    "done"
   ]
  },
  {
   "cell_type": "code",
   "execution_count": 6,
   "metadata": {
    "slideshow": {
     "slide_type": "-"
    }
   },
   "outputs": [
    {
     "name": "stdout",
     "output_type": "stream",
     "text": [
      "Big History!\n"
     ]
    }
   ],
   "source": [
    "if [ $HISTSIZE -gt 500 ]\n",
    "then\n",
    "    echo \"Big History!\"\n",
    "else\n",
    "    echo \"Short History\"\n",
    "fi"
   ]
  },
  {
   "cell_type": "markdown",
   "metadata": {
    "slideshow": {
     "slide_type": "-"
    }
   },
   "source": [
    "## Piping and redirections"
   ]
  },
  {
   "cell_type": "code",
   "execution_count": 7,
   "metadata": {
    "slideshow": {
     "slide_type": "-"
    }
   },
   "outputs": [
    {
     "name": "stdout",
     "output_type": "stream",
     "text": [
      "127.0.0.1\t\u001b[01;31m\u001b[Klocalhost\u001b[m\u001b[K\n",
      "::1     ip6-\u001b[01;31m\u001b[Klocalhost\u001b[m\u001b[K ip6-loopback\n",
      "127.0.1.1 cartodb.\u001b[01;31m\u001b[Klocalhost\u001b[m\u001b[K\n"
     ]
    }
   ],
   "source": [
    "# pipe the result of a command into another\n",
    "cat /etc/hosts | grep localhost"
   ]
  },
  {
   "cell_type": "code",
   "execution_count": 8,
   "metadata": {
    "slideshow": {
     "slide_type": "-"
    }
   },
   "outputs": [],
   "source": [
    "# write the contents of a command results into a file (overwriting)\n",
    "cat /etc/hosts > /tmp/myhosts"
   ]
  },
  {
   "cell_type": "markdown",
   "metadata": {
    "slideshow": {
     "slide_type": "-"
    }
   },
   "source": [
    "## Viewing and finding"
   ]
  },
  {
   "cell_type": "markdown",
   "metadata": {
    "slideshow": {
     "slide_type": "-"
    }
   },
   "source": [
    "### wc and cat"
   ]
  },
  {
   "cell_type": "code",
   "execution_count": 9,
   "metadata": {
    "slideshow": {
     "slide_type": "-"
    }
   },
   "outputs": [
    {
     "name": "stdout",
     "output_type": "stream",
     "text": [
      " 28  54 631 /etc/hosts\n"
     ]
    }
   ],
   "source": [
    "# Counting lines, words, and characters\n",
    "wc /etc/hosts"
   ]
  },
  {
   "cell_type": "code",
   "execution_count": 10,
   "metadata": {
    "slideshow": {
     "slide_type": "-"
    }
   },
   "outputs": [
    {
     "name": "stdout",
     "output_type": "stream",
     "text": [
      "28 /etc/hosts\n"
     ]
    }
   ],
   "source": [
    "# Usually we only want the lines\n",
    "wc -l /etc/hosts"
   ]
  },
  {
   "cell_type": "code",
   "execution_count": 11,
   "metadata": {
    "slideshow": {
     "slide_type": "-"
    }
   },
   "outputs": [
    {
     "name": "stdout",
     "output_type": "stream",
     "text": [
      "127.0.0.1\tlocalhost\n",
      "127.0.1.1\taldaia\n",
      "\n",
      "# The following lines are desirable for IPv6 capable hosts\n",
      "::1     ip6-localhost ip6-loopback\n"
     ]
    }
   ],
   "source": [
    "# Print the beginning of a file\n",
    "cat /etc/hosts | head -n5"
   ]
  },
  {
   "cell_type": "code",
   "execution_count": 12,
   "metadata": {
    "slideshow": {
     "slide_type": "-"
    }
   },
   "outputs": [
    {
     "name": "stdout",
     "output_type": "stream",
     "text": [
      "## vagrant-hostmanager\n",
      "#10.0.2.70 grafana.cartodb.net\n",
      "#10.0.2.82 kibana.cartodb.net\n",
      "\n",
      "127.0.1.1 cartodb.localhost\n"
     ]
    }
   ],
   "source": [
    "# Same with the end\n",
    "cat /etc/hosts | tail -n5"
   ]
  },
  {
   "cell_type": "code",
   "execution_count": 13,
   "metadata": {
    "slideshow": {
     "slide_type": "-"
    }
   },
   "outputs": [
    {
     "name": "stdout",
     "output_type": "stream",
     "text": [
      "90\n"
     ]
    }
   ],
   "source": [
    "# Combining pipes with wc to count files in a folder\n",
    "ls /var/log | wc -l"
   ]
  },
  {
   "cell_type": "markdown",
   "metadata": {
    "slideshow": {
     "slide_type": "-"
    }
   },
   "source": [
    "### find"
   ]
  },
  {
   "cell_type": "code",
   "execution_count": 34,
   "metadata": {
    "slideshow": {
     "slide_type": "-"
    }
   },
   "outputs": [
    {
     "name": "stdout",
     "output_type": "stream",
     "text": [
      "200\n"
     ]
    }
   ],
   "source": [
    "# Finding all files inside a folder based in their names and types\n",
    "# we redirect errors to the black hole at /dev/null\n",
    "find /var/log -type f -name \"*log*\" 2> /dev/null | wc -l"
   ]
  },
  {
   "cell_type": "code",
   "execution_count": 15,
   "metadata": {
    "slideshow": {
     "slide_type": "-"
    }
   },
   "outputs": [
    {
     "ename": "",
     "evalue": "1",
     "output_type": "error",
     "traceback": []
    }
   ],
   "source": [
    "# Finding and deleting\n",
    "find /tmp/ -name \".DS_Store\" -type f -delete 2> /dev/null"
   ]
  },
  {
   "cell_type": "code",
   "execution_count": 16,
   "metadata": {
    "slideshow": {
     "slide_type": "-"
    }
   },
   "outputs": [
    {
     "name": "stdout",
     "output_type": "stream",
     "text": [
      "13 /home/jsanz/src/carto/blog/.gitignore\n",
      "1 /home/jsanz/src/carto/carto-workshop/.gitignore\n",
      "3 /home/jsanz/src/carto/carto-workshop/06-sdks/exercises/python_SDK/.gitignore\n",
      "3 /home/jsanz/src/carto/onpremises/.gitignore\n",
      "2 /home/jsanz/src/carto/onpremises/omnibus/.gitignore\n",
      "1 /home/jsanz/src/carto/onpremises/doc/.gitignore\n",
      "8 /home/jsanz/src/carto/product-updates/.gitignore\n",
      "2 /home/jsanz/src/carto/customer_success/projects/infogroup/.gitignore\n",
      "1 /home/jsanz/src/carto/customer_success/projects/cushman_wakefield/201611_office_locations/.gitignore\n",
      "1 /home/jsanz/src/carto/customer_success/outreach/tech_touch/.gitignore\n",
      "55 /home/jsanz/src/carto/solutions/.gitignore\n",
      "4 /home/jsanz/src/carto/solutions/onprem/ssh/.gitignore\n",
      "2 /home/jsanz/src/carto/solutions/doc/.gitignore\n",
      "12 /home/jsanz/src/carto/help/.gitignore\n",
      "1 /home/jsanz/src/carto/help/glossary_download/.gitignore\n",
      "2 /home/jsanz/src/carto/talks/.gitignore\n",
      "12 /home/jsanz/src/carto/talks/resources/reveal.js/reveal.js-3.5.0/.gitignore\n",
      "1 /home/jsanz/src/carto/support/src/followups/.gitignore\n",
      "89 /home/jsanz/src/carto/support/src/metrics/.gitignore\n",
      "2 /home/jsanz/src/carto/support/.gitignore\n",
      "92 /home/jsanz/src/carto/support/guides/import-sql-api-test/.gitignore\n",
      "9 /home/jsanz/src/carto/support/guides/mobile_test/src/.gitignore\n",
      "1 /home/jsanz/src/carto/support/guides/mobile_test/src/app/.gitignore\n",
      "39 /home/jsanz/src/carto/Reveal/.gitignore\n"
     ]
    }
   ],
   "source": [
    "# Finding and executing a command (count lines in gitignore files)\n",
    "find ~/src/carto -name \".gitignore\" -type f -exec wc -l {} \\;"
   ]
  },
  {
   "cell_type": "markdown",
   "metadata": {
    "slideshow": {
     "slide_type": "-"
    }
   },
   "source": [
    "### sed\n",
    "\n",
    "Great for working with text files:\n",
    "* replacing texts\n",
    "* finding patterns\n",
    "* working with line numbers"
   ]
  },
  {
   "cell_type": "code",
   "execution_count": 17,
   "metadata": {
    "slideshow": {
     "slide_type": "-"
    }
   },
   "outputs": [
    {
     "name": "stdout",
     "output_type": "stream",
     "text": [
      "# The following lines are desirable for IPv6 capable hosts\n",
      "#192.168.56.101 cartodb.lan\n",
      "# 5.32.4.75 cartodb.lan\n",
      "## vagrant-hostmanager-start id: aea15025-4dcf-452d-a47e-7e270a187de8\n",
      "## vagrant-hostmanager-end\n",
      "## vagrant-hostmanager-start id: 0a853cbe-6d72-4784-aea1-137a727a3f0a\n",
      "## vagrant-hostmanager\n",
      "#10.0.2.70 grafana.cartodb.net\n",
      "#10.0.2.82 kibana.cartodb.net\n"
     ]
    }
   ],
   "source": [
    "# Print comments in the hosts file\n",
    "sed -n -e '/\\#.*/p' /etc/hosts"
   ]
  },
  {
   "cell_type": "code",
   "execution_count": 18,
   "metadata": {
    "slideshow": {
     "slide_type": "-"
    }
   },
   "outputs": [
    {
     "name": "stdout",
     "output_type": "stream",
     "text": [
      "127.0.0.1\tlocalhost\n",
      "127.0.1.1\taldaia\n",
      "::1     ip6-localhost ip6-loopback\n",
      "fe00::0 ip6-localnet\n",
      "ff00::0 ip6-mcastprefix\n",
      "ff02::1 ip6-allnodes\n",
      "ff02::2 ip6-allrouters\n",
      "192.168.33.10 carto.lan\n",
      "10.0.3.79\tbcg.devnet.local\n",
      "10.0.3.140\tcarto.lan\n",
      "127.0.1.1 cartodb.localhost\n"
     ]
    }
   ],
   "source": [
    "# Remove comments and then remove blank lines\n",
    "sed -e '/\\#.*/d' -e '/^\\s*$/d' /etc/hosts"
   ]
  },
  {
   "cell_type": "markdown",
   "metadata": {},
   "source": [
    "### Silver Searcher"
   ]
  },
  {
   "cell_type": "code",
   "execution_count": 19,
   "metadata": {
    "slideshow": {
     "slide_type": "-"
    }
   },
   "outputs": [
    {
     "name": "stdout",
     "output_type": "stream",
     "text": [
      "\u001b[1;32m/home/jsanz/src/carto/help/_app/_contents/working-with-data/development/tools.md\u001b[0m\u001b[K\n",
      "\u001b[1;33m78\u001b[0m\u001b[K:![CDB Manager]({{ site.baseurl }}/images/working-with-data/tools/\u001b[30;43mbetis\u001b[0m\u001b[K.png)\n",
      "\u001b[1;33m80\u001b[0m\u001b[K:### Why use \u001b[30;43mbetis\u001b[0m\u001b[K.carto.io?\n",
      "\u001b[1;33m82\u001b[0m\u001b[K:Normally, to use CDB Manager you would have to clone [its GitHub repo](https://github.com/CartoDB/cdb-manager), then run a Python server and open its interface via localhost. This site is a more convenient way to use the tool: [https://\u001b[30;43mbetis\u001b[0m\u001b[K.carto.io/](https://\u001b[30;43mbetis\u001b[0m\u001b[K.carto.io/) is just a static hosted version of CDB Manager.\n",
      "\u001b[1;33m84\u001b[0m\u001b[K:**Note:** We named this site `\u001b[30;43mbetis\u001b[0m\u001b[K` as a small tribute to CDB Manager's main developer, Dani Carrión. He's a huge fan of [Real \u001b[30;43mBetis\u001b[0m\u001b[K Balompié](https://en.wikipedia.org/wiki/Real_\u001b[30;43mBetis\u001b[0m\u001b[K), a Spanish football team from Seville.\n",
      "\u001b[1;33m88\u001b[0m\u001b[K:1. Visit [https://\u001b[30;43mbetis\u001b[0m\u001b[K.carto.io/](https://\u001b[30;43mbetis\u001b[0m\u001b[K.carto.io/)\n"
     ]
    }
   ],
   "source": [
    "# The Silver Searcher, quick find anything on your code\n",
    "# https://github.com/ggreer/the_silver_searcher\n",
    "ag betis ~/src/carto/help"
   ]
  },
  {
   "cell_type": "markdown",
   "metadata": {
    "slideshow": {
     "slide_type": "-"
    }
   },
   "source": [
    "## Accessing web services and APIs"
   ]
  },
  {
   "cell_type": "markdown",
   "metadata": {
    "slideshow": {
     "slide_type": "-"
    }
   },
   "source": [
    "## Handling data"
   ]
  },
  {
   "cell_type": "markdown",
   "metadata": {
    "slideshow": {
     "slide_type": "-"
    }
   },
   "source": [
    "## Miscellany"
   ]
  },
  {
   "cell_type": "code",
   "execution_count": 20,
   "metadata": {
    "slideshow": {
     "slide_type": "-"
    }
   },
   "outputs": [
    {
     "name": "stdout",
     "output_type": "stream",
     "text": [
      "/home/jsanz/src/sdks/carto-python\n"
     ]
    }
   ],
   "source": [
    "# Jump around your file system\n",
    "# https://github.com/wting/autojump\n",
    "autojump carto-python"
   ]
  },
  {
   "cell_type": "code",
   "execution_count": 24,
   "metadata": {
    "slideshow": {
     "slide_type": "-"
    }
   },
   "outputs": [
    {
     "name": "stdout",
     "output_type": "stream",
     "text": [
      "\u001b[1m\u001b[96mWhen he woke up, the dinosaur was still there\u001b[0m\u001b[22m\n"
     ]
    }
   ],
   "source": [
    "# Translator using several providers\n",
    "# https://github.com/soimort/translate-shell\n",
    "trans -brief 'cuando se despertó, el dinosaurio aún estaba allí'"
   ]
  },
  {
   "cell_type": "code",
   "execution_count": 22,
   "metadata": {
    "slideshow": {
     "slide_type": "-"
    }
   },
   "outputs": [
    {
     "name": "stdout",
     "output_type": "stream",
     "text": [
      "\u001b[38;5;124m\"\"\"\u001b[39m\n",
      "\u001b[38;5;124mModule for defining response objects\u001b[39m\n",
      "\n",
      "\u001b[38;5;124m.. module:: carto.fields\u001b[39m\n",
      "\u001b[38;5;124m   :platform: Unix, Windows\u001b[39m\n",
      "\u001b[38;5;124m   :synopsis: Module for defining response objects\u001b[39m\n",
      "\n",
      "\u001b[38;5;124m.. moduleauthor:: Daniel Carrion <daniel@carto.com>\u001b[39m\n",
      "\u001b[38;5;124m.. moduleauthor:: Alberto Romeu <alrocar@carto.com>\u001b[39m\n",
      "\n",
      "\n",
      "\u001b[38;5;124m\"\"\"\u001b[39m\n",
      "\n",
      "\u001b[38;5;28;01mfrom\u001b[39;00m \u001b[38;5;21;01mpyrestcli.fields\u001b[39;00m \u001b[38;5;28;01mimport\u001b[39;00m ResourceField\n",
      "\n",
      "\n",
      "\u001b[38;5;28;01mclass\u001b[39;00m \u001b[38;5;21;01mVisualizationField\u001b[39;00m(ResourceField):\n",
      "    \u001b[38;5;124m\"\"\"\u001b[39m\n",
      "\u001b[38;5;124m    :class:`carto.visualizations.Visualization`\u001b[39m\n",
      "\u001b[38;5;124m    \"\"\"\u001b[39m\n",
      "    value_class \u001b[38;5;241m=\u001b[39m \u001b[38;5;124m\"\u001b[39m\u001b[38;5;124mcarto.visualizations.Visualization\u001b[39m\u001b[38;5;124m\"\u001b[39m\n",
      "\n",
      "\n",
      "\u001b[38;5;28;01mclass\u001b[39;00m \u001b[38;5;21;01mTableField\u001b[39;00m(ResourceField):\n",
      "    \u001b[38;5;124m\"\"\"\u001b[39m\n",
      "\u001b[38;5;124m    :class:`carto.tables.Table`\u001b[39m\n",
      "\u001b[38;5;124m    \"\"\"\u001b[39m\n",
      "    value_class \u001b[38;5;241m=\u001b[39m \u001b[38;5;124m\"\u001b[39m\u001b[38;5;124mcarto.tables.Table\u001b[39m\u001b[38;5;124m\"\u001b[39m\n",
      "\n",
      "\n",
      "\u001b[38;5;28;01mclass\u001b[39;00m \u001b[38;5;21;01mUserField\u001b[39;00m(ResourceField):\n",
      "    \u001b[38;5;124m\"\"\"\u001b[39m\n",
      "\u001b[38;5;124m    :class:`carto.users.User`\u001b[39m\n",
      "\u001b[38;5;124m    \"\"\"\u001b[39m\n",
      "    value_class \u001b[38;5;241m=\u001b[39m \u001b[38;5;124m\"\u001b[39m\u001b[38;5;124mcarto.users.User\u001b[39m\u001b[38;5;124m\"\u001b[39m\n",
      "\n",
      "\n",
      "\u001b[38;5;28;01mclass\u001b[39;00m \u001b[38;5;21;01mEntityField\u001b[39;00m(ResourceField):\n",
      "    \u001b[38;5;124m\"\"\"\u001b[39m\n",
      "\u001b[38;5;124m    :class:`carto.permissions.Entity`\u001b[39m\n",
      "\u001b[38;5;124m    \"\"\"\u001b[39m\n",
      "    value_class \u001b[38;5;241m=\u001b[39m \u001b[38;5;124m\"\u001b[39m\u001b[38;5;124mcarto.permissions.Entity\u001b[39m\u001b[38;5;124m\"\u001b[39m\n",
      "\n",
      "\n",
      "\u001b[38;5;28;01mclass\u001b[39;00m \u001b[38;5;21;01mPermissionField\u001b[39;00m(ResourceField):\n",
      "    \u001b[38;5;124m\"\"\"\u001b[39m\n",
      "\u001b[38;5;124m    :class:`carto.permissions.Permission`\u001b[39m\n",
      "\u001b[38;5;124m    \"\"\"\u001b[39m\n",
      "    value_class \u001b[38;5;241m=\u001b[39m \u001b[38;5;124m\"\u001b[39m\u001b[38;5;124mcarto.permissions.Permission\u001b[39m\u001b[38;5;124m\"\u001b[39m\n"
     ]
    }
   ],
   "source": [
    "# Pretty print source code\n",
    "# http://pygments.org/docs/cmdline/\n",
    "pygmentize -g /home/jsanz/src/sdks/carto-python/carto/fields.py"
   ]
  },
  {
   "cell_type": "markdown",
   "metadata": {
    "slideshow": {
     "slide_type": "-"
    }
   },
   "source": [
    "## Resources\n",
    "\n",
    "* [Solutions summit 2017 CLI talk](http://cartodb.github.io/talks/1704-cli/)\n",
    "* [useful commands to get info about your system](https://www.tecmint.com/commands-to-collect-system-and-hardware-information-in-linux/)\n",
    "* [for loops](https://www.cyberciti.biz/faq/bash-for-loop/)\n",
    "* [if statements](https://ryanstutorials.net/bash-scripting-tutorial/bash-if-statements.php#introduction)\n",
    "* [about redirections](https://catonmat.net/bash-one-liners-explained-part-three)\n",
    "* [35 find examples](http://www.tecmint.com/35-practical-examples-of-linux-find-command/)\n",
    "* `sed` examples: [1](https://www.ibm.com/developerworks/library/l-sed1/), [2](https://www.ibm.com/developerworks/library/l-sed2/)\n",
    "  and [3](https://www.ibm.com/developerworks/library/l-sed3/)"
   ]
  },
  {
   "cell_type": "code",
   "execution_count": null,
   "metadata": {
    "slideshow": {
     "slide_type": "-"
    }
   },
   "outputs": [],
   "source": []
  },
  {
   "cell_type": "code",
   "execution_count": null,
   "metadata": {
    "slideshow": {
     "slide_type": "-"
    }
   },
   "outputs": [],
   "source": []
  },
  {
   "cell_type": "code",
   "execution_count": null,
   "metadata": {},
   "outputs": [],
   "source": []
  }
 ],
 "metadata": {
  "kernelspec": {
   "display_name": "Bash",
   "language": "bash",
   "name": "bash"
  },
  "language_info": {
   "codemirror_mode": "shell",
   "file_extension": ".sh",
   "mimetype": "text/x-sh",
   "name": "bash"
  }
 },
 "nbformat": 4,
 "nbformat_minor": 2
}
